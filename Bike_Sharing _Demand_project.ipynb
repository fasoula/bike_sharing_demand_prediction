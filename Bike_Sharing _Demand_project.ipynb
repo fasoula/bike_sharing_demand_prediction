{
 "cells": [
  {
   "cell_type": "markdown",
   "metadata": {},
   "source": [
    "## Capital Bike Share Demand (Regression)"
   ]
  },
  {
   "cell_type": "markdown",
   "metadata": {},
   "source": [
    "### Import data"
   ]
  },
  {
   "cell_type": "code",
   "execution_count": 1,
   "metadata": {},
   "outputs": [
    {
     "data": {
      "text/html": [
       "<div>\n",
       "<style scoped>\n",
       "    .dataframe tbody tr th:only-of-type {\n",
       "        vertical-align: middle;\n",
       "    }\n",
       "\n",
       "    .dataframe tbody tr th {\n",
       "        vertical-align: top;\n",
       "    }\n",
       "\n",
       "    .dataframe thead th {\n",
       "        text-align: right;\n",
       "    }\n",
       "</style>\n",
       "<table border=\"1\" class=\"dataframe\">\n",
       "  <thead>\n",
       "    <tr style=\"text-align: right;\">\n",
       "      <th></th>\n",
       "      <th>datetime</th>\n",
       "      <th>season</th>\n",
       "      <th>holiday</th>\n",
       "      <th>workingday</th>\n",
       "      <th>weather</th>\n",
       "      <th>temp</th>\n",
       "      <th>atemp</th>\n",
       "      <th>humidity</th>\n",
       "      <th>windspeed</th>\n",
       "      <th>casual</th>\n",
       "      <th>registered</th>\n",
       "      <th>count</th>\n",
       "    </tr>\n",
       "  </thead>\n",
       "  <tbody>\n",
       "    <tr>\n",
       "      <th>0</th>\n",
       "      <td>2011-01-01 00:00:00</td>\n",
       "      <td>1</td>\n",
       "      <td>0</td>\n",
       "      <td>0</td>\n",
       "      <td>1</td>\n",
       "      <td>9.84</td>\n",
       "      <td>14.395</td>\n",
       "      <td>81</td>\n",
       "      <td>0.0000</td>\n",
       "      <td>3</td>\n",
       "      <td>13</td>\n",
       "      <td>16</td>\n",
       "    </tr>\n",
       "    <tr>\n",
       "      <th>1</th>\n",
       "      <td>2011-01-01 01:00:00</td>\n",
       "      <td>1</td>\n",
       "      <td>0</td>\n",
       "      <td>0</td>\n",
       "      <td>1</td>\n",
       "      <td>9.02</td>\n",
       "      <td>13.635</td>\n",
       "      <td>80</td>\n",
       "      <td>0.0000</td>\n",
       "      <td>8</td>\n",
       "      <td>32</td>\n",
       "      <td>40</td>\n",
       "    </tr>\n",
       "    <tr>\n",
       "      <th>2</th>\n",
       "      <td>2011-01-01 02:00:00</td>\n",
       "      <td>1</td>\n",
       "      <td>0</td>\n",
       "      <td>0</td>\n",
       "      <td>1</td>\n",
       "      <td>9.02</td>\n",
       "      <td>13.635</td>\n",
       "      <td>80</td>\n",
       "      <td>0.0000</td>\n",
       "      <td>5</td>\n",
       "      <td>27</td>\n",
       "      <td>32</td>\n",
       "    </tr>\n",
       "    <tr>\n",
       "      <th>3</th>\n",
       "      <td>2011-01-01 03:00:00</td>\n",
       "      <td>1</td>\n",
       "      <td>0</td>\n",
       "      <td>0</td>\n",
       "      <td>1</td>\n",
       "      <td>9.84</td>\n",
       "      <td>14.395</td>\n",
       "      <td>75</td>\n",
       "      <td>0.0000</td>\n",
       "      <td>3</td>\n",
       "      <td>10</td>\n",
       "      <td>13</td>\n",
       "    </tr>\n",
       "    <tr>\n",
       "      <th>4</th>\n",
       "      <td>2011-01-01 04:00:00</td>\n",
       "      <td>1</td>\n",
       "      <td>0</td>\n",
       "      <td>0</td>\n",
       "      <td>1</td>\n",
       "      <td>9.84</td>\n",
       "      <td>14.395</td>\n",
       "      <td>75</td>\n",
       "      <td>0.0000</td>\n",
       "      <td>0</td>\n",
       "      <td>1</td>\n",
       "      <td>1</td>\n",
       "    </tr>\n",
       "    <tr>\n",
       "      <th>...</th>\n",
       "      <td>...</td>\n",
       "      <td>...</td>\n",
       "      <td>...</td>\n",
       "      <td>...</td>\n",
       "      <td>...</td>\n",
       "      <td>...</td>\n",
       "      <td>...</td>\n",
       "      <td>...</td>\n",
       "      <td>...</td>\n",
       "      <td>...</td>\n",
       "      <td>...</td>\n",
       "      <td>...</td>\n",
       "    </tr>\n",
       "    <tr>\n",
       "      <th>10881</th>\n",
       "      <td>2012-12-19 19:00:00</td>\n",
       "      <td>4</td>\n",
       "      <td>0</td>\n",
       "      <td>1</td>\n",
       "      <td>1</td>\n",
       "      <td>15.58</td>\n",
       "      <td>19.695</td>\n",
       "      <td>50</td>\n",
       "      <td>26.0027</td>\n",
       "      <td>7</td>\n",
       "      <td>329</td>\n",
       "      <td>336</td>\n",
       "    </tr>\n",
       "    <tr>\n",
       "      <th>10882</th>\n",
       "      <td>2012-12-19 20:00:00</td>\n",
       "      <td>4</td>\n",
       "      <td>0</td>\n",
       "      <td>1</td>\n",
       "      <td>1</td>\n",
       "      <td>14.76</td>\n",
       "      <td>17.425</td>\n",
       "      <td>57</td>\n",
       "      <td>15.0013</td>\n",
       "      <td>10</td>\n",
       "      <td>231</td>\n",
       "      <td>241</td>\n",
       "    </tr>\n",
       "    <tr>\n",
       "      <th>10883</th>\n",
       "      <td>2012-12-19 21:00:00</td>\n",
       "      <td>4</td>\n",
       "      <td>0</td>\n",
       "      <td>1</td>\n",
       "      <td>1</td>\n",
       "      <td>13.94</td>\n",
       "      <td>15.910</td>\n",
       "      <td>61</td>\n",
       "      <td>15.0013</td>\n",
       "      <td>4</td>\n",
       "      <td>164</td>\n",
       "      <td>168</td>\n",
       "    </tr>\n",
       "    <tr>\n",
       "      <th>10884</th>\n",
       "      <td>2012-12-19 22:00:00</td>\n",
       "      <td>4</td>\n",
       "      <td>0</td>\n",
       "      <td>1</td>\n",
       "      <td>1</td>\n",
       "      <td>13.94</td>\n",
       "      <td>17.425</td>\n",
       "      <td>61</td>\n",
       "      <td>6.0032</td>\n",
       "      <td>12</td>\n",
       "      <td>117</td>\n",
       "      <td>129</td>\n",
       "    </tr>\n",
       "    <tr>\n",
       "      <th>10885</th>\n",
       "      <td>2012-12-19 23:00:00</td>\n",
       "      <td>4</td>\n",
       "      <td>0</td>\n",
       "      <td>1</td>\n",
       "      <td>1</td>\n",
       "      <td>13.12</td>\n",
       "      <td>16.665</td>\n",
       "      <td>66</td>\n",
       "      <td>8.9981</td>\n",
       "      <td>4</td>\n",
       "      <td>84</td>\n",
       "      <td>88</td>\n",
       "    </tr>\n",
       "  </tbody>\n",
       "</table>\n",
       "<p>10886 rows × 12 columns</p>\n",
       "</div>"
      ],
      "text/plain": [
       "                  datetime  season  holiday  workingday  weather   temp  \\\n",
       "0      2011-01-01 00:00:00       1        0           0        1   9.84   \n",
       "1      2011-01-01 01:00:00       1        0           0        1   9.02   \n",
       "2      2011-01-01 02:00:00       1        0           0        1   9.02   \n",
       "3      2011-01-01 03:00:00       1        0           0        1   9.84   \n",
       "4      2011-01-01 04:00:00       1        0           0        1   9.84   \n",
       "...                    ...     ...      ...         ...      ...    ...   \n",
       "10881  2012-12-19 19:00:00       4        0           1        1  15.58   \n",
       "10882  2012-12-19 20:00:00       4        0           1        1  14.76   \n",
       "10883  2012-12-19 21:00:00       4        0           1        1  13.94   \n",
       "10884  2012-12-19 22:00:00       4        0           1        1  13.94   \n",
       "10885  2012-12-19 23:00:00       4        0           1        1  13.12   \n",
       "\n",
       "        atemp  humidity  windspeed  casual  registered  count  \n",
       "0      14.395        81     0.0000       3          13     16  \n",
       "1      13.635        80     0.0000       8          32     40  \n",
       "2      13.635        80     0.0000       5          27     32  \n",
       "3      14.395        75     0.0000       3          10     13  \n",
       "4      14.395        75     0.0000       0           1      1  \n",
       "...       ...       ...        ...     ...         ...    ...  \n",
       "10881  19.695        50    26.0027       7         329    336  \n",
       "10882  17.425        57    15.0013      10         231    241  \n",
       "10883  15.910        61    15.0013       4         164    168  \n",
       "10884  17.425        61     6.0032      12         117    129  \n",
       "10885  16.665        66     8.9981       4          84     88  \n",
       "\n",
       "[10886 rows x 12 columns]"
      ]
     },
     "execution_count": 1,
     "metadata": {},
     "output_type": "execute_result"
    }
   ],
   "source": [
    "import pandas as pd\n",
    "data = pd.read_csv('train.csv')\n",
    "data"
   ]
  },
  {
   "cell_type": "markdown",
   "metadata": {},
   "source": [
    "#### Description of variables\n",
    "- datetime - hourly date + timestamp \n",
    "- season -  1 = spring, 2 = summer, 3 = fall, 4 = winter \n",
    "- holiday - whether the day is considered a holiday\n",
    "- workingday - whether the day is neither a weekend nor holiday\n",
    "- weather \n",
    "- 1: Clear, Few clouds, Partly cloudy, Partly cloudy\n",
    "- 2: Mist + Cloudy, Mist + Broken clouds, Mist + Few clouds, Mist\n",
    "- 3: Light Snow, Light Rain + Thunderstorm + Scattered clouds, Light Rain + Scattered clouds\n",
    "- 4: Heavy Rain + Ice Pallets + Thunderstorm + Mist, Snow + Fog \n",
    "- temp - temperature in Celsius\n",
    "- atemp - \"feels like\" temperature in Celsius\n",
    "- humidity - relative humidity\n",
    "- windspeed - wind speed\n",
    "- casual - number of non-registered user rentals initiated\n",
    "- registered - number of registered user rentals initiated\n",
    "- count - number of total rentals"
   ]
  },
  {
   "cell_type": "code",
   "execution_count": 2,
   "metadata": {},
   "outputs": [
    {
     "data": {
      "text/plain": [
       "datetime      0\n",
       "season        0\n",
       "holiday       0\n",
       "workingday    0\n",
       "weather       0\n",
       "temp          0\n",
       "atemp         0\n",
       "humidity      0\n",
       "windspeed     0\n",
       "casual        0\n",
       "registered    0\n",
       "count         0\n",
       "dtype: int64"
      ]
     },
     "execution_count": 2,
     "metadata": {},
     "output_type": "execute_result"
    }
   ],
   "source": [
    "data.isnull().sum()"
   ]
  },
  {
   "cell_type": "markdown",
   "metadata": {},
   "source": [
    "## Exploratory Data Analysis"
   ]
  },
  {
   "cell_type": "markdown",
   "metadata": {},
   "source": [
    "### Which factors contribute most to the number of bicycles being checked out over the course of a given day?"
   ]
  },
  {
   "cell_type": "code",
   "execution_count": 3,
   "metadata": {},
   "outputs": [
    {
     "data": {
      "text/html": [
       "<div>\n",
       "<style scoped>\n",
       "    .dataframe tbody tr th:only-of-type {\n",
       "        vertical-align: middle;\n",
       "    }\n",
       "\n",
       "    .dataframe tbody tr th {\n",
       "        vertical-align: top;\n",
       "    }\n",
       "\n",
       "    .dataframe thead th {\n",
       "        text-align: right;\n",
       "    }\n",
       "</style>\n",
       "<table border=\"1\" class=\"dataframe\">\n",
       "  <thead>\n",
       "    <tr style=\"text-align: right;\">\n",
       "      <th></th>\n",
       "      <th>datetime</th>\n",
       "      <th>season</th>\n",
       "      <th>holiday</th>\n",
       "      <th>workingday</th>\n",
       "      <th>weather</th>\n",
       "      <th>temp</th>\n",
       "      <th>atemp</th>\n",
       "      <th>humidity</th>\n",
       "      <th>windspeed</th>\n",
       "      <th>casual</th>\n",
       "      <th>registered</th>\n",
       "      <th>count</th>\n",
       "    </tr>\n",
       "  </thead>\n",
       "  <tbody>\n",
       "    <tr>\n",
       "      <th>0</th>\n",
       "      <td>2011-01-01 00:00:00</td>\n",
       "      <td>1</td>\n",
       "      <td>0</td>\n",
       "      <td>0</td>\n",
       "      <td>1</td>\n",
       "      <td>9.84</td>\n",
       "      <td>14.395</td>\n",
       "      <td>81</td>\n",
       "      <td>0.0000</td>\n",
       "      <td>3</td>\n",
       "      <td>13</td>\n",
       "      <td>16</td>\n",
       "    </tr>\n",
       "    <tr>\n",
       "      <th>1</th>\n",
       "      <td>2011-01-01 01:00:00</td>\n",
       "      <td>1</td>\n",
       "      <td>0</td>\n",
       "      <td>0</td>\n",
       "      <td>1</td>\n",
       "      <td>9.02</td>\n",
       "      <td>13.635</td>\n",
       "      <td>80</td>\n",
       "      <td>0.0000</td>\n",
       "      <td>8</td>\n",
       "      <td>32</td>\n",
       "      <td>40</td>\n",
       "    </tr>\n",
       "    <tr>\n",
       "      <th>2</th>\n",
       "      <td>2011-01-01 02:00:00</td>\n",
       "      <td>1</td>\n",
       "      <td>0</td>\n",
       "      <td>0</td>\n",
       "      <td>1</td>\n",
       "      <td>9.02</td>\n",
       "      <td>13.635</td>\n",
       "      <td>80</td>\n",
       "      <td>0.0000</td>\n",
       "      <td>5</td>\n",
       "      <td>27</td>\n",
       "      <td>32</td>\n",
       "    </tr>\n",
       "    <tr>\n",
       "      <th>3</th>\n",
       "      <td>2011-01-01 03:00:00</td>\n",
       "      <td>1</td>\n",
       "      <td>0</td>\n",
       "      <td>0</td>\n",
       "      <td>1</td>\n",
       "      <td>9.84</td>\n",
       "      <td>14.395</td>\n",
       "      <td>75</td>\n",
       "      <td>0.0000</td>\n",
       "      <td>3</td>\n",
       "      <td>10</td>\n",
       "      <td>13</td>\n",
       "    </tr>\n",
       "    <tr>\n",
       "      <th>4</th>\n",
       "      <td>2011-01-01 04:00:00</td>\n",
       "      <td>1</td>\n",
       "      <td>0</td>\n",
       "      <td>0</td>\n",
       "      <td>1</td>\n",
       "      <td>9.84</td>\n",
       "      <td>14.395</td>\n",
       "      <td>75</td>\n",
       "      <td>0.0000</td>\n",
       "      <td>0</td>\n",
       "      <td>1</td>\n",
       "      <td>1</td>\n",
       "    </tr>\n",
       "    <tr>\n",
       "      <th>...</th>\n",
       "      <td>...</td>\n",
       "      <td>...</td>\n",
       "      <td>...</td>\n",
       "      <td>...</td>\n",
       "      <td>...</td>\n",
       "      <td>...</td>\n",
       "      <td>...</td>\n",
       "      <td>...</td>\n",
       "      <td>...</td>\n",
       "      <td>...</td>\n",
       "      <td>...</td>\n",
       "      <td>...</td>\n",
       "    </tr>\n",
       "    <tr>\n",
       "      <th>10881</th>\n",
       "      <td>2012-12-19 19:00:00</td>\n",
       "      <td>4</td>\n",
       "      <td>0</td>\n",
       "      <td>1</td>\n",
       "      <td>1</td>\n",
       "      <td>15.58</td>\n",
       "      <td>19.695</td>\n",
       "      <td>50</td>\n",
       "      <td>26.0027</td>\n",
       "      <td>7</td>\n",
       "      <td>329</td>\n",
       "      <td>336</td>\n",
       "    </tr>\n",
       "    <tr>\n",
       "      <th>10882</th>\n",
       "      <td>2012-12-19 20:00:00</td>\n",
       "      <td>4</td>\n",
       "      <td>0</td>\n",
       "      <td>1</td>\n",
       "      <td>1</td>\n",
       "      <td>14.76</td>\n",
       "      <td>17.425</td>\n",
       "      <td>57</td>\n",
       "      <td>15.0013</td>\n",
       "      <td>10</td>\n",
       "      <td>231</td>\n",
       "      <td>241</td>\n",
       "    </tr>\n",
       "    <tr>\n",
       "      <th>10883</th>\n",
       "      <td>2012-12-19 21:00:00</td>\n",
       "      <td>4</td>\n",
       "      <td>0</td>\n",
       "      <td>1</td>\n",
       "      <td>1</td>\n",
       "      <td>13.94</td>\n",
       "      <td>15.910</td>\n",
       "      <td>61</td>\n",
       "      <td>15.0013</td>\n",
       "      <td>4</td>\n",
       "      <td>164</td>\n",
       "      <td>168</td>\n",
       "    </tr>\n",
       "    <tr>\n",
       "      <th>10884</th>\n",
       "      <td>2012-12-19 22:00:00</td>\n",
       "      <td>4</td>\n",
       "      <td>0</td>\n",
       "      <td>1</td>\n",
       "      <td>1</td>\n",
       "      <td>13.94</td>\n",
       "      <td>17.425</td>\n",
       "      <td>61</td>\n",
       "      <td>6.0032</td>\n",
       "      <td>12</td>\n",
       "      <td>117</td>\n",
       "      <td>129</td>\n",
       "    </tr>\n",
       "    <tr>\n",
       "      <th>10885</th>\n",
       "      <td>2012-12-19 23:00:00</td>\n",
       "      <td>4</td>\n",
       "      <td>0</td>\n",
       "      <td>1</td>\n",
       "      <td>1</td>\n",
       "      <td>13.12</td>\n",
       "      <td>16.665</td>\n",
       "      <td>66</td>\n",
       "      <td>8.9981</td>\n",
       "      <td>4</td>\n",
       "      <td>84</td>\n",
       "      <td>88</td>\n",
       "    </tr>\n",
       "  </tbody>\n",
       "</table>\n",
       "<p>10886 rows × 12 columns</p>\n",
       "</div>"
      ],
      "text/plain": [
       "                 datetime  season  holiday  workingday  weather   temp  \\\n",
       "0     2011-01-01 00:00:00       1        0           0        1   9.84   \n",
       "1     2011-01-01 01:00:00       1        0           0        1   9.02   \n",
       "2     2011-01-01 02:00:00       1        0           0        1   9.02   \n",
       "3     2011-01-01 03:00:00       1        0           0        1   9.84   \n",
       "4     2011-01-01 04:00:00       1        0           0        1   9.84   \n",
       "...                   ...     ...      ...         ...      ...    ...   \n",
       "10881 2012-12-19 19:00:00       4        0           1        1  15.58   \n",
       "10882 2012-12-19 20:00:00       4        0           1        1  14.76   \n",
       "10883 2012-12-19 21:00:00       4        0           1        1  13.94   \n",
       "10884 2012-12-19 22:00:00       4        0           1        1  13.94   \n",
       "10885 2012-12-19 23:00:00       4        0           1        1  13.12   \n",
       "\n",
       "        atemp  humidity  windspeed  casual  registered  count  \n",
       "0      14.395        81     0.0000       3          13     16  \n",
       "1      13.635        80     0.0000       8          32     40  \n",
       "2      13.635        80     0.0000       5          27     32  \n",
       "3      14.395        75     0.0000       3          10     13  \n",
       "4      14.395        75     0.0000       0           1      1  \n",
       "...       ...       ...        ...     ...         ...    ...  \n",
       "10881  19.695        50    26.0027       7         329    336  \n",
       "10882  17.425        57    15.0013      10         231    241  \n",
       "10883  15.910        61    15.0013       4         164    168  \n",
       "10884  17.425        61     6.0032      12         117    129  \n",
       "10885  16.665        66     8.9981       4          84     88  \n",
       "\n",
       "[10886 rows x 12 columns]"
      ]
     },
     "execution_count": 3,
     "metadata": {},
     "output_type": "execute_result"
    }
   ],
   "source": [
    "# Convert datetime to datetime format\n",
    "data['datetime']= pd.to_datetime(data['datetime'])\n",
    "data"
   ]
  },
  {
   "cell_type": "code",
   "execution_count": 4,
   "metadata": {},
   "outputs": [
    {
     "data": {
      "text/plain": [
       "datetime      10886\n",
       "season        10886\n",
       "holiday       10886\n",
       "workingday    10886\n",
       "weather       10886\n",
       "temp          10886\n",
       "atemp         10886\n",
       "humidity      10886\n",
       "windspeed     10886\n",
       "casual        10886\n",
       "registered    10886\n",
       "count         10886\n",
       "dtype: int64"
      ]
     },
     "execution_count": 4,
     "metadata": {},
     "output_type": "execute_result"
    }
   ],
   "source": [
    "data.count()"
   ]
  },
  {
   "cell_type": "markdown",
   "metadata": {},
   "source": [
    "### How much of an impact does weather have on demand?"
   ]
  },
  {
   "cell_type": "markdown",
   "metadata": {},
   "source": [
    " - Weather has a negative and week correlation (-0.13) on demand, i.e. if weather is bad (e.g. 4) than the demand goes down\n",
    " - in contrast temp, atempand humidity have higher impact than weather"
   ]
  },
  {
   "cell_type": "code",
   "execution_count": 5,
   "metadata": {},
   "outputs": [
    {
     "data": {
      "text/plain": [
       "<AxesSubplot:xlabel='weather', ylabel='count'>"
      ]
     },
     "execution_count": 5,
     "metadata": {},
     "output_type": "execute_result"
    },
    {
     "data": {
      "image/png": "[encoded data removed]",
      "text/plain": [
       "<Figure size 432x288 with 1 Axes>"
      ]
     },
     "metadata": {
      "needs_background": "light"
     },
     "output_type": "display_data"
    }
   ],
   "source": [
    "import seaborn as sns\n",
    "sns.barplot(x= 'weather', y= 'count', data = data)"
   ]
  },
  {
   "cell_type": "markdown",
   "metadata": {},
   "source": [
    "## Datetime conversion"
   ]
  },
  {
   "cell_type": "code",
   "execution_count": 6,
   "metadata": {},
   "outputs": [
    {
     "data": {
      "text/html": [
       "<div>\n",
       "<style scoped>\n",
       "    .dataframe tbody tr th:only-of-type {\n",
       "        vertical-align: middle;\n",
       "    }\n",
       "\n",
       "    .dataframe tbody tr th {\n",
       "        vertical-align: top;\n",
       "    }\n",
       "\n",
       "    .dataframe thead th {\n",
       "        text-align: right;\n",
       "    }\n",
       "</style>\n",
       "<table border=\"1\" class=\"dataframe\">\n",
       "  <thead>\n",
       "    <tr style=\"text-align: right;\">\n",
       "      <th></th>\n",
       "      <th>datetime</th>\n",
       "      <th>season</th>\n",
       "      <th>holiday</th>\n",
       "      <th>workingday</th>\n",
       "      <th>weather</th>\n",
       "      <th>temp</th>\n",
       "      <th>atemp</th>\n",
       "      <th>humidity</th>\n",
       "      <th>windspeed</th>\n",
       "      <th>casual</th>\n",
       "      <th>registered</th>\n",
       "      <th>count</th>\n",
       "      <th>year</th>\n",
       "      <th>month</th>\n",
       "      <th>day</th>\n",
       "      <th>hour</th>\n",
       "    </tr>\n",
       "  </thead>\n",
       "  <tbody>\n",
       "    <tr>\n",
       "      <th>0</th>\n",
       "      <td>2011-01-01 00:00:00</td>\n",
       "      <td>1</td>\n",
       "      <td>0</td>\n",
       "      <td>0</td>\n",
       "      <td>1</td>\n",
       "      <td>9.84</td>\n",
       "      <td>14.395</td>\n",
       "      <td>81</td>\n",
       "      <td>0.0000</td>\n",
       "      <td>3</td>\n",
       "      <td>13</td>\n",
       "      <td>16</td>\n",
       "      <td>2011</td>\n",
       "      <td>1</td>\n",
       "      <td>5</td>\n",
       "      <td>0</td>\n",
       "    </tr>\n",
       "    <tr>\n",
       "      <th>1</th>\n",
       "      <td>2011-01-01 01:00:00</td>\n",
       "      <td>1</td>\n",
       "      <td>0</td>\n",
       "      <td>0</td>\n",
       "      <td>1</td>\n",
       "      <td>9.02</td>\n",
       "      <td>13.635</td>\n",
       "      <td>80</td>\n",
       "      <td>0.0000</td>\n",
       "      <td>8</td>\n",
       "      <td>32</td>\n",
       "      <td>40</td>\n",
       "      <td>2011</td>\n",
       "      <td>1</td>\n",
       "      <td>5</td>\n",
       "      <td>1</td>\n",
       "    </tr>\n",
       "    <tr>\n",
       "      <th>2</th>\n",
       "      <td>2011-01-01 02:00:00</td>\n",
       "      <td>1</td>\n",
       "      <td>0</td>\n",
       "      <td>0</td>\n",
       "      <td>1</td>\n",
       "      <td>9.02</td>\n",
       "      <td>13.635</td>\n",
       "      <td>80</td>\n",
       "      <td>0.0000</td>\n",
       "      <td>5</td>\n",
       "      <td>27</td>\n",
       "      <td>32</td>\n",
       "      <td>2011</td>\n",
       "      <td>1</td>\n",
       "      <td>5</td>\n",
       "      <td>2</td>\n",
       "    </tr>\n",
       "    <tr>\n",
       "      <th>3</th>\n",
       "      <td>2011-01-01 03:00:00</td>\n",
       "      <td>1</td>\n",
       "      <td>0</td>\n",
       "      <td>0</td>\n",
       "      <td>1</td>\n",
       "      <td>9.84</td>\n",
       "      <td>14.395</td>\n",
       "      <td>75</td>\n",
       "      <td>0.0000</td>\n",
       "      <td>3</td>\n",
       "      <td>10</td>\n",
       "      <td>13</td>\n",
       "      <td>2011</td>\n",
       "      <td>1</td>\n",
       "      <td>5</td>\n",
       "      <td>3</td>\n",
       "    </tr>\n",
       "    <tr>\n",
       "      <th>4</th>\n",
       "      <td>2011-01-01 04:00:00</td>\n",
       "      <td>1</td>\n",
       "      <td>0</td>\n",
       "      <td>0</td>\n",
       "      <td>1</td>\n",
       "      <td>9.84</td>\n",
       "      <td>14.395</td>\n",
       "      <td>75</td>\n",
       "      <td>0.0000</td>\n",
       "      <td>0</td>\n",
       "      <td>1</td>\n",
       "      <td>1</td>\n",
       "      <td>2011</td>\n",
       "      <td>1</td>\n",
       "      <td>5</td>\n",
       "      <td>4</td>\n",
       "    </tr>\n",
       "    <tr>\n",
       "      <th>...</th>\n",
       "      <td>...</td>\n",
       "      <td>...</td>\n",
       "      <td>...</td>\n",
       "      <td>...</td>\n",
       "      <td>...</td>\n",
       "      <td>...</td>\n",
       "      <td>...</td>\n",
       "      <td>...</td>\n",
       "      <td>...</td>\n",
       "      <td>...</td>\n",
       "      <td>...</td>\n",
       "      <td>...</td>\n",
       "      <td>...</td>\n",
       "      <td>...</td>\n",
       "      <td>...</td>\n",
       "      <td>...</td>\n",
       "    </tr>\n",
       "    <tr>\n",
       "      <th>10881</th>\n",
       "      <td>2012-12-19 19:00:00</td>\n",
       "      <td>4</td>\n",
       "      <td>0</td>\n",
       "      <td>1</td>\n",
       "      <td>1</td>\n",
       "      <td>15.58</td>\n",
       "      <td>19.695</td>\n",
       "      <td>50</td>\n",
       "      <td>26.0027</td>\n",
       "      <td>7</td>\n",
       "      <td>329</td>\n",
       "      <td>336</td>\n",
       "      <td>2012</td>\n",
       "      <td>12</td>\n",
       "      <td>2</td>\n",
       "      <td>19</td>\n",
       "    </tr>\n",
       "    <tr>\n",
       "      <th>10882</th>\n",
       "      <td>2012-12-19 20:00:00</td>\n",
       "      <td>4</td>\n",
       "      <td>0</td>\n",
       "      <td>1</td>\n",
       "      <td>1</td>\n",
       "      <td>14.76</td>\n",
       "      <td>17.425</td>\n",
       "      <td>57</td>\n",
       "      <td>15.0013</td>\n",
       "      <td>10</td>\n",
       "      <td>231</td>\n",
       "      <td>241</td>\n",
       "      <td>2012</td>\n",
       "      <td>12</td>\n",
       "      <td>2</td>\n",
       "      <td>20</td>\n",
       "    </tr>\n",
       "    <tr>\n",
       "      <th>10883</th>\n",
       "      <td>2012-12-19 21:00:00</td>\n",
       "      <td>4</td>\n",
       "      <td>0</td>\n",
       "      <td>1</td>\n",
       "      <td>1</td>\n",
       "      <td>13.94</td>\n",
       "      <td>15.910</td>\n",
       "      <td>61</td>\n",
       "      <td>15.0013</td>\n",
       "      <td>4</td>\n",
       "      <td>164</td>\n",
       "      <td>168</td>\n",
       "      <td>2012</td>\n",
       "      <td>12</td>\n",
       "      <td>2</td>\n",
       "      <td>21</td>\n",
       "    </tr>\n",
       "    <tr>\n",
       "      <th>10884</th>\n",
       "      <td>2012-12-19 22:00:00</td>\n",
       "      <td>4</td>\n",
       "      <td>0</td>\n",
       "      <td>1</td>\n",
       "      <td>1</td>\n",
       "      <td>13.94</td>\n",
       "      <td>17.425</td>\n",
       "      <td>61</td>\n",
       "      <td>6.0032</td>\n",
       "      <td>12</td>\n",
       "      <td>117</td>\n",
       "      <td>129</td>\n",
       "      <td>2012</td>\n",
       "      <td>12</td>\n",
       "      <td>2</td>\n",
       "      <td>22</td>\n",
       "    </tr>\n",
       "    <tr>\n",
       "      <th>10885</th>\n",
       "      <td>2012-12-19 23:00:00</td>\n",
       "      <td>4</td>\n",
       "      <td>0</td>\n",
       "      <td>1</td>\n",
       "      <td>1</td>\n",
       "      <td>13.12</td>\n",
       "      <td>16.665</td>\n",
       "      <td>66</td>\n",
       "      <td>8.9981</td>\n",
       "      <td>4</td>\n",
       "      <td>84</td>\n",
       "      <td>88</td>\n",
       "      <td>2012</td>\n",
       "      <td>12</td>\n",
       "      <td>2</td>\n",
       "      <td>23</td>\n",
       "    </tr>\n",
       "  </tbody>\n",
       "</table>\n",
       "<p>10886 rows × 16 columns</p>\n",
       "</div>"
      ],
      "text/plain": [
       "                 datetime  season  holiday  workingday  weather   temp  \\\n",
       "0     2011-01-01 00:00:00       1        0           0        1   9.84   \n",
       "1     2011-01-01 01:00:00       1        0           0        1   9.02   \n",
       "2     2011-01-01 02:00:00       1        0           0        1   9.02   \n",
       "3     2011-01-01 03:00:00       1        0           0        1   9.84   \n",
       "4     2011-01-01 04:00:00       1        0           0        1   9.84   \n",
       "...                   ...     ...      ...         ...      ...    ...   \n",
       "10881 2012-12-19 19:00:00       4        0           1        1  15.58   \n",
       "10882 2012-12-19 20:00:00       4        0           1        1  14.76   \n",
       "10883 2012-12-19 21:00:00       4        0           1        1  13.94   \n",
       "10884 2012-12-19 22:00:00       4        0           1        1  13.94   \n",
       "10885 2012-12-19 23:00:00       4        0           1        1  13.12   \n",
       "\n",
       "        atemp  humidity  windspeed  casual  registered  count  year  month  \\\n",
       "0      14.395        81     0.0000       3          13     16  2011      1   \n",
       "1      13.635        80     0.0000       8          32     40  2011      1   \n",
       "2      13.635        80     0.0000       5          27     32  2011      1   \n",
       "3      14.395        75     0.0000       3          10     13  2011      1   \n",
       "4      14.395        75     0.0000       0           1      1  2011      1   \n",
       "...       ...       ...        ...     ...         ...    ...   ...    ...   \n",
       "10881  19.695        50    26.0027       7         329    336  2012     12   \n",
       "10882  17.425        57    15.0013      10         231    241  2012     12   \n",
       "10883  15.910        61    15.0013       4         164    168  2012     12   \n",
       "10884  17.425        61     6.0032      12         117    129  2012     12   \n",
       "10885  16.665        66     8.9981       4          84     88  2012     12   \n",
       "\n",
       "       day  hour  \n",
       "0        5     0  \n",
       "1        5     1  \n",
       "2        5     2  \n",
       "3        5     3  \n",
       "4        5     4  \n",
       "...    ...   ...  \n",
       "10881    2    19  \n",
       "10882    2    20  \n",
       "10883    2    21  \n",
       "10884    2    22  \n",
       "10885    2    23  \n",
       "\n",
       "[10886 rows x 16 columns]"
      ]
     },
     "execution_count": 6,
     "metadata": {},
     "output_type": "execute_result"
    }
   ],
   "source": [
    "data['year'] = data['datetime'].dt.year\n",
    "data['month'] = data['datetime'].dt.month\n",
    "data['day'] = data['datetime'].dt.weekday\n",
    "data['hour'] = data['datetime'].dt.hour\n",
    "data"
   ]
  },
  {
   "cell_type": "code",
   "execution_count": 7,
   "metadata": {},
   "outputs": [
    {
     "data": {
      "text/plain": [
       "<AxesSubplot:xlabel='year', ylabel='count'>"
      ]
     },
     "execution_count": 7,
     "metadata": {},
     "output_type": "execute_result"
    },
    {
     "data": {
      "image/png": "[encoded data removed]",
      "text/plain": [
       "<Figure size 432x288 with 1 Axes>"
      ]
     },
     "metadata": {
      "needs_background": "light"
     },
     "output_type": "display_data"
    }
   ],
   "source": [
    "sns.barplot(x= 'year', y= 'count', data = data)"
   ]
  },
  {
   "cell_type": "code",
   "execution_count": 8,
   "metadata": {},
   "outputs": [
    {
     "data": {
      "text/plain": [
       "<AxesSubplot:xlabel='month', ylabel='count'>"
      ]
     },
     "execution_count": 8,
     "metadata": {},
     "output_type": "execute_result"
    },
    {
     "data": {
      "image/png": "[encoded data removed]",
      "text/plain": [
       "<Figure size 432x288 with 1 Axes>"
      ]
     },
     "metadata": {
      "needs_background": "light"
     },
     "output_type": "display_data"
    }
   ],
   "source": [
    "sns.barplot(x= 'month', y= 'count', data = data)"
   ]
  },
  {
   "cell_type": "code",
   "execution_count": 9,
   "metadata": {},
   "outputs": [
    {
     "data": {
      "text/plain": [
       "<AxesSubplot:xlabel='day', ylabel='count'>"
      ]
     },
     "execution_count": 9,
     "metadata": {},
     "output_type": "execute_result"
    },
    {
     "data": {
      "image/png": "[encoded data removed]",
      "text/plain": [
       "<Figure size 432x288 with 1 Axes>"
      ]
     },
     "metadata": {
      "needs_background": "light"
     },
     "output_type": "display_data"
    }
   ],
   "source": [
    "sns.barplot(x= 'day', y= 'count', data = data, palette= 'Set2')"
   ]
  },
  {
   "cell_type": "code",
   "execution_count": 10,
   "metadata": {},
   "outputs": [
    {
     "data": {
      "text/plain": [
       "<AxesSubplot:xlabel='hour', ylabel='count'>"
      ]
     },
     "execution_count": 10,
     "metadata": {},
     "output_type": "execute_result"
    },
    {
     "data": {
      "image/png": "[encoded data removed]",
      "text/plain": [
       "<Figure size 432x288 with 1 Axes>"
      ]
     },
     "metadata": {
      "needs_background": "light"
     },
     "output_type": "display_data"
    }
   ],
   "source": [
    "sns.barplot(x= 'hour', y= 'count', data = data)"
   ]
  },
  {
   "cell_type": "markdown",
   "metadata": {},
   "source": [
    "## How does the behavior of casual users differ from subscribers?"
   ]
  },
  {
   "cell_type": "code",
   "execution_count": 11,
   "metadata": {},
   "outputs": [
    {
     "name": "stderr",
     "output_type": "stream",
     "text": [
      "/tmp/ipykernel_17601/76028659.py:1: FutureWarning: Indexing with multiple keys (implicitly converted to a tuple of keys) will be deprecated, use a list instead.\n",
      "  month = data.groupby(['month'])['registered','casual'].sum()\n"
     ]
    },
    {
     "data": {
      "text/html": [
       "<div>\n",
       "<style scoped>\n",
       "    .dataframe tbody tr th:only-of-type {\n",
       "        vertical-align: middle;\n",
       "    }\n",
       "\n",
       "    .dataframe tbody tr th {\n",
       "        vertical-align: top;\n",
       "    }\n",
       "\n",
       "    .dataframe thead th {\n",
       "        text-align: right;\n",
       "    }\n",
       "</style>\n",
       "<table border=\"1\" class=\"dataframe\">\n",
       "  <thead>\n",
       "    <tr style=\"text-align: right;\">\n",
       "      <th></th>\n",
       "      <th>registered</th>\n",
       "      <th>casual</th>\n",
       "    </tr>\n",
       "    <tr>\n",
       "      <th>month</th>\n",
       "      <th></th>\n",
       "      <th></th>\n",
       "    </tr>\n",
       "  </thead>\n",
       "  <tbody>\n",
       "    <tr>\n",
       "      <th>1</th>\n",
       "      <td>72632</td>\n",
       "      <td>7252</td>\n",
       "    </tr>\n",
       "    <tr>\n",
       "      <th>2</th>\n",
       "      <td>89816</td>\n",
       "      <td>9297</td>\n",
       "    </tr>\n",
       "    <tr>\n",
       "      <th>3</th>\n",
       "      <td>108445</td>\n",
       "      <td>25056</td>\n",
       "    </tr>\n",
       "    <tr>\n",
       "      <th>4</th>\n",
       "      <td>127589</td>\n",
       "      <td>39813</td>\n",
       "    </tr>\n",
       "    <tr>\n",
       "      <th>5</th>\n",
       "      <td>158862</td>\n",
       "      <td>41285</td>\n",
       "    </tr>\n",
       "    <tr>\n",
       "      <th>6</th>\n",
       "      <td>172159</td>\n",
       "      <td>48574</td>\n",
       "    </tr>\n",
       "    <tr>\n",
       "      <th>7</th>\n",
       "      <td>163670</td>\n",
       "      <td>50947</td>\n",
       "    </tr>\n",
       "    <tr>\n",
       "      <th>8</th>\n",
       "      <td>167646</td>\n",
       "      <td>45870</td>\n",
       "    </tr>\n",
       "    <tr>\n",
       "      <th>9</th>\n",
       "      <td>166628</td>\n",
       "      <td>45901</td>\n",
       "    </tr>\n",
       "    <tr>\n",
       "      <th>10</th>\n",
       "      <td>169347</td>\n",
       "      <td>38087</td>\n",
       "    </tr>\n",
       "    <tr>\n",
       "      <th>11</th>\n",
       "      <td>151087</td>\n",
       "      <td>25353</td>\n",
       "    </tr>\n",
       "    <tr>\n",
       "      <th>12</th>\n",
       "      <td>145460</td>\n",
       "      <td>14700</td>\n",
       "    </tr>\n",
       "  </tbody>\n",
       "</table>\n",
       "</div>"
      ],
      "text/plain": [
       "       registered  casual\n",
       "month                    \n",
       "1           72632    7252\n",
       "2           89816    9297\n",
       "3          108445   25056\n",
       "4          127589   39813\n",
       "5          158862   41285\n",
       "6          172159   48574\n",
       "7          163670   50947\n",
       "8          167646   45870\n",
       "9          166628   45901\n",
       "10         169347   38087\n",
       "11         151087   25353\n",
       "12         145460   14700"
      ]
     },
     "execution_count": 11,
     "metadata": {},
     "output_type": "execute_result"
    }
   ],
   "source": [
    "month = data.groupby(['month'])['registered','casual'].sum()\n",
    "month"
   ]
  },
  {
   "cell_type": "code",
   "execution_count": 12,
   "metadata": {},
   "outputs": [
    {
     "data": {
      "text/html": [
       "<div>\n",
       "<style scoped>\n",
       "    .dataframe tbody tr th:only-of-type {\n",
       "        vertical-align: middle;\n",
       "    }\n",
       "\n",
       "    .dataframe tbody tr th {\n",
       "        vertical-align: top;\n",
       "    }\n",
       "\n",
       "    .dataframe thead th {\n",
       "        text-align: right;\n",
       "    }\n",
       "</style>\n",
       "<table border=\"1\" class=\"dataframe\">\n",
       "  <thead>\n",
       "    <tr style=\"text-align: right;\">\n",
       "      <th></th>\n",
       "      <th>month</th>\n",
       "      <th>registered</th>\n",
       "      <th>casual</th>\n",
       "    </tr>\n",
       "  </thead>\n",
       "  <tbody>\n",
       "    <tr>\n",
       "      <th>0</th>\n",
       "      <td>1</td>\n",
       "      <td>72632</td>\n",
       "      <td>7252</td>\n",
       "    </tr>\n",
       "    <tr>\n",
       "      <th>1</th>\n",
       "      <td>2</td>\n",
       "      <td>89816</td>\n",
       "      <td>9297</td>\n",
       "    </tr>\n",
       "    <tr>\n",
       "      <th>2</th>\n",
       "      <td>3</td>\n",
       "      <td>108445</td>\n",
       "      <td>25056</td>\n",
       "    </tr>\n",
       "    <tr>\n",
       "      <th>3</th>\n",
       "      <td>4</td>\n",
       "      <td>127589</td>\n",
       "      <td>39813</td>\n",
       "    </tr>\n",
       "    <tr>\n",
       "      <th>4</th>\n",
       "      <td>5</td>\n",
       "      <td>158862</td>\n",
       "      <td>41285</td>\n",
       "    </tr>\n",
       "    <tr>\n",
       "      <th>5</th>\n",
       "      <td>6</td>\n",
       "      <td>172159</td>\n",
       "      <td>48574</td>\n",
       "    </tr>\n",
       "    <tr>\n",
       "      <th>6</th>\n",
       "      <td>7</td>\n",
       "      <td>163670</td>\n",
       "      <td>50947</td>\n",
       "    </tr>\n",
       "    <tr>\n",
       "      <th>7</th>\n",
       "      <td>8</td>\n",
       "      <td>167646</td>\n",
       "      <td>45870</td>\n",
       "    </tr>\n",
       "    <tr>\n",
       "      <th>8</th>\n",
       "      <td>9</td>\n",
       "      <td>166628</td>\n",
       "      <td>45901</td>\n",
       "    </tr>\n",
       "    <tr>\n",
       "      <th>9</th>\n",
       "      <td>10</td>\n",
       "      <td>169347</td>\n",
       "      <td>38087</td>\n",
       "    </tr>\n",
       "    <tr>\n",
       "      <th>10</th>\n",
       "      <td>11</td>\n",
       "      <td>151087</td>\n",
       "      <td>25353</td>\n",
       "    </tr>\n",
       "    <tr>\n",
       "      <th>11</th>\n",
       "      <td>12</td>\n",
       "      <td>145460</td>\n",
       "      <td>14700</td>\n",
       "    </tr>\n",
       "  </tbody>\n",
       "</table>\n",
       "</div>"
      ],
      "text/plain": [
       "    month  registered  casual\n",
       "0       1       72632    7252\n",
       "1       2       89816    9297\n",
       "2       3      108445   25056\n",
       "3       4      127589   39813\n",
       "4       5      158862   41285\n",
       "5       6      172159   48574\n",
       "6       7      163670   50947\n",
       "7       8      167646   45870\n",
       "8       9      166628   45901\n",
       "9      10      169347   38087\n",
       "10     11      151087   25353\n",
       "11     12      145460   14700"
      ]
     },
     "execution_count": 12,
     "metadata": {},
     "output_type": "execute_result"
    }
   ],
   "source": [
    "month.reset_index(inplace=True)\n",
    "month"
   ]
  },
  {
   "cell_type": "code",
   "execution_count": 13,
   "metadata": {},
   "outputs": [
    {
     "data": {
      "text/plain": [
       "<AxesSubplot:xlabel='month', ylabel='registered'>"
      ]
     },
     "execution_count": 13,
     "metadata": {},
     "output_type": "execute_result"
    },
    {
     "data": {
      "image/png": "[encoded data removed]",
      "text/plain": [
       "<Figure size 432x288 with 1 Axes>"
      ]
     },
     "metadata": {
      "needs_background": "light"
     },
     "output_type": "display_data"
    }
   ],
   "source": [
    "sns.lineplot(data=month, y='registered', x = 'month')\n",
    "sns.lineplot(data=month, y='casual', x = 'month')"
   ]
  },
  {
   "cell_type": "code",
   "execution_count": 14,
   "metadata": {},
   "outputs": [
    {
     "data": {
      "text/plain": [
       "<BarContainer object of 12 artists>"
      ]
     },
     "execution_count": 14,
     "metadata": {},
     "output_type": "execute_result"
    },
    {
     "data": {
      "image/png": "[encoded data removed]",
      "text/plain": [
       "<Figure size 432x288 with 1 Axes>"
      ]
     },
     "metadata": {
      "needs_background": "light"
     },
     "output_type": "display_data"
    }
   ],
   "source": [
    "import matplotlib.pyplot as plt\n",
    "\n",
    "y = month['registered']\n",
    "x = month['month']\n",
    "w = month['casual']\n",
    "\n",
    "\n",
    "plt.bar(x,y, align='center')\n",
    "plt.bar(x,w, align='center')\n",
    "\n"
   ]
  },
  {
   "cell_type": "code",
   "execution_count": 15,
   "metadata": {},
   "outputs": [
    {
     "name": "stderr",
     "output_type": "stream",
     "text": [
      "/tmp/ipykernel_17601/3396795679.py:1: FutureWarning: Indexing with multiple keys (implicitly converted to a tuple of keys) will be deprecated, use a list instead.\n",
      "  day = data.groupby(['day'])['registered','casual'].sum()\n"
     ]
    },
    {
     "data": {
      "text/plain": [
       "<AxesSubplot:xlabel='day', ylabel='registered'>"
      ]
     },
     "execution_count": 15,
     "metadata": {},
     "output_type": "execute_result"
    },
    {
     "data": {
      "image/png": "[encoded data removed]",
      "text/plain": [
       "<Figure size 432x288 with 1 Axes>"
      ]
     },
     "metadata": {
      "needs_background": "light"
     },
     "output_type": "display_data"
    }
   ],
   "source": [
    "day = data.groupby(['day'])['registered','casual'].sum()\n",
    "day.reset_index(inplace=True)\n",
    "\n",
    "sns.lineplot(data=day, y='registered', x = 'day')\n",
    "sns.lineplot(data=day, y='casual', x = 'day')"
   ]
  },
  {
   "cell_type": "code",
   "execution_count": 16,
   "metadata": {},
   "outputs": [],
   "source": [
    "data.drop(labels='datetime', axis=1, inplace=True)"
   ]
  },
  {
   "cell_type": "markdown",
   "metadata": {},
   "source": [
    "### PP Score"
   ]
  },
  {
   "cell_type": "markdown",
   "metadata": {},
   "source": [
    "https://towardsdatascience.com/rip-correlation-introducing-the-predictive-power-score-3d90808b9598"
   ]
  },
  {
   "cell_type": "markdown",
   "metadata": {},
   "source": [
    "#### works only with older version of scikit-learn"
   ]
  },
  {
   "cell_type": "code",
   "execution_count": 17,
   "metadata": {},
   "outputs": [],
   "source": [
    "#import ppscore as pps\n",
    "\n",
    "#fig, ax = plt.subplots(figsize=(10,10))  \n",
    "#a = pps.matrix(data).pivot(columns='x', index='y', values='ppscore')\n",
    "#sns.heatmap(a, annot=True, ax=ax, cmap='coolwarm')"
   ]
  },
  {
   "cell_type": "markdown",
   "metadata": {},
   "source": [
    "### Heatmap"
   ]
  },
  {
   "cell_type": "code",
   "execution_count": 18,
   "metadata": {},
   "outputs": [
    {
     "data": {
      "text/plain": [
       "<AxesSubplot:>"
      ]
     },
     "execution_count": 18,
     "metadata": {},
     "output_type": "execute_result"
    },
    {
     "data": {
      "image/png": "[encoded data removed]",
      "text/plain": [
       "<Figure size 720x720 with 2 Axes>"
      ]
     },
     "metadata": {
      "needs_background": "light"
     },
     "output_type": "display_data"
    }
   ],
   "source": [
    "fig, ax = plt.subplots(figsize=(10,10))  \n",
    "sns.heatmap(data.corr(), annot= True, ax=ax, cmap= 'coolwarm')"
   ]
  },
  {
   "cell_type": "markdown",
   "metadata": {},
   "source": [
    "#### --> Order of correlation, starting with highest: registered, casual,temp and atemp, humidity, season, weather, workingday, windspeed, holiday\n"
   ]
  },
  {
   "cell_type": "code",
   "execution_count": 19,
   "metadata": {},
   "outputs": [],
   "source": [
    "from IPython.display import display, Markdown, Latex"
   ]
  },
  {
   "cell_type": "markdown",
   "metadata": {},
   "source": [
    "## Checking for multicollinearity with Variance Inflation Factor"
   ]
  },
  {
   "cell_type": "markdown",
   "metadata": {},
   "source": [
    "#### VIF measures the linear association between an independent variable and all other independent variables.\n",
    "#### A VIF for any given independent variable is calculated by:\n",
    "    \n"
   ]
  },
  {
   "cell_type": "markdown",
   "metadata": {},
   "source": [
    "##                               $VIF = \\frac{1}{1-R²}$"
   ]
  },
  {
   "cell_type": "markdown",
   "metadata": {},
   "source": [
    "#### https://towardsdatascience.com/everything-you-need-to-know-about-multicollinearity-2f21f082d6dc"
   ]
  },
  {
   "cell_type": "code",
   "execution_count": 20,
   "metadata": {},
   "outputs": [],
   "source": [
    "import numpy as np\n",
    "from statsmodels.stats.outliers_influence import variance_inflation_factor"
   ]
  },
  {
   "cell_type": "markdown",
   "metadata": {},
   "source": [
    "### VIF above 10 indicates high multicollinearity"
   ]
  },
  {
   "cell_type": "code",
   "execution_count": 21,
   "metadata": {},
   "outputs": [
    {
     "data": {
      "text/html": [
       "<div>\n",
       "<style scoped>\n",
       "    .dataframe tbody tr th:only-of-type {\n",
       "        vertical-align: middle;\n",
       "    }\n",
       "\n",
       "    .dataframe tbody tr th {\n",
       "        vertical-align: top;\n",
       "    }\n",
       "\n",
       "    .dataframe thead th {\n",
       "        text-align: right;\n",
       "    }\n",
       "</style>\n",
       "<table border=\"1\" class=\"dataframe\">\n",
       "  <thead>\n",
       "    <tr style=\"text-align: right;\">\n",
       "      <th></th>\n",
       "      <th>feature</th>\n",
       "      <th>VIF</th>\n",
       "    </tr>\n",
       "  </thead>\n",
       "  <tbody>\n",
       "    <tr>\n",
       "      <th>0</th>\n",
       "      <td>season</td>\n",
       "      <td>109.474112</td>\n",
       "    </tr>\n",
       "    <tr>\n",
       "      <th>1</th>\n",
       "      <td>holiday</td>\n",
       "      <td>1.565106</td>\n",
       "    </tr>\n",
       "    <tr>\n",
       "      <th>2</th>\n",
       "      <td>workingday</td>\n",
       "      <td>9.064293</td>\n",
       "    </tr>\n",
       "    <tr>\n",
       "      <th>3</th>\n",
       "      <td>weather</td>\n",
       "      <td>7.508942</td>\n",
       "    </tr>\n",
       "    <tr>\n",
       "      <th>4</th>\n",
       "      <td>temp</td>\n",
       "      <td>276.719498</td>\n",
       "    </tr>\n",
       "    <tr>\n",
       "      <th>5</th>\n",
       "      <td>atemp</td>\n",
       "      <td>315.197703</td>\n",
       "    </tr>\n",
       "    <tr>\n",
       "      <th>6</th>\n",
       "      <td>humidity</td>\n",
       "      <td>17.493027</td>\n",
       "    </tr>\n",
       "    <tr>\n",
       "      <th>7</th>\n",
       "      <td>windspeed</td>\n",
       "      <td>4.161167</td>\n",
       "    </tr>\n",
       "    <tr>\n",
       "      <th>8</th>\n",
       "      <td>year</td>\n",
       "      <td>67.055738</td>\n",
       "    </tr>\n",
       "    <tr>\n",
       "      <th>9</th>\n",
       "      <td>month</td>\n",
       "      <td>83.524540</td>\n",
       "    </tr>\n",
       "    <tr>\n",
       "      <th>10</th>\n",
       "      <td>day</td>\n",
       "      <td>9.196941</td>\n",
       "    </tr>\n",
       "    <tr>\n",
       "      <th>11</th>\n",
       "      <td>hour</td>\n",
       "      <td>4.247420</td>\n",
       "    </tr>\n",
       "  </tbody>\n",
       "</table>\n",
       "</div>"
      ],
      "text/plain": [
       "       feature         VIF\n",
       "0       season  109.474112\n",
       "1      holiday    1.565106\n",
       "2   workingday    9.064293\n",
       "3      weather    7.508942\n",
       "4         temp  276.719498\n",
       "5        atemp  315.197703\n",
       "6     humidity   17.493027\n",
       "7    windspeed    4.161167\n",
       "8         year   67.055738\n",
       "9        month   83.524540\n",
       "10         day    9.196941\n",
       "11        hour    4.247420"
      ]
     },
     "execution_count": 21,
     "metadata": {},
     "output_type": "execute_result"
    }
   ],
   "source": [
    "\n",
    "data= data[~data.isin([np.nan, np.inf, -np.inf]).any(1)]\n",
    "X_variables = data[['season', 'holiday', 'workingday', 'weather', 'temp', 'atemp','humidity', 'windspeed', \n",
    "                    'year','month', 'day', 'hour']]\n",
    "\n",
    "vif_data = pd.DataFrame()\n",
    "vif_data[\"feature\"] = X_variables.columns\n",
    "vif_data[\"VIF\"] = [variance_inflation_factor(X_variables.values, i) \n",
    "                   for i in range(len(X_variables.columns))]\n",
    "vif_data"
   ]
  },
  {
   "cell_type": "code",
   "execution_count": 22,
   "metadata": {},
   "outputs": [
    {
     "data": {
      "text/html": [
       "<div>\n",
       "<style scoped>\n",
       "    .dataframe tbody tr th:only-of-type {\n",
       "        vertical-align: middle;\n",
       "    }\n",
       "\n",
       "    .dataframe tbody tr th {\n",
       "        vertical-align: top;\n",
       "    }\n",
       "\n",
       "    .dataframe thead th {\n",
       "        text-align: right;\n",
       "    }\n",
       "</style>\n",
       "<table border=\"1\" class=\"dataframe\">\n",
       "  <thead>\n",
       "    <tr style=\"text-align: right;\">\n",
       "      <th></th>\n",
       "      <th>feature</th>\n",
       "      <th>VIF</th>\n",
       "    </tr>\n",
       "  </thead>\n",
       "  <tbody>\n",
       "    <tr>\n",
       "      <th>0</th>\n",
       "      <td>holiday</td>\n",
       "      <td>1.293959</td>\n",
       "    </tr>\n",
       "    <tr>\n",
       "      <th>1</th>\n",
       "      <td>workingday</td>\n",
       "      <td>5.460216</td>\n",
       "    </tr>\n",
       "    <tr>\n",
       "      <th>2</th>\n",
       "      <td>temp</td>\n",
       "      <td>7.728628</td>\n",
       "    </tr>\n",
       "    <tr>\n",
       "      <th>3</th>\n",
       "      <td>windspeed</td>\n",
       "      <td>3.464645</td>\n",
       "    </tr>\n",
       "    <tr>\n",
       "      <th>4</th>\n",
       "      <td>humidity</td>\n",
       "      <td>12.879300</td>\n",
       "    </tr>\n",
       "    <tr>\n",
       "      <th>5</th>\n",
       "      <td>month</td>\n",
       "      <td>5.203902</td>\n",
       "    </tr>\n",
       "    <tr>\n",
       "      <th>6</th>\n",
       "      <td>day</td>\n",
       "      <td>5.321123</td>\n",
       "    </tr>\n",
       "    <tr>\n",
       "      <th>7</th>\n",
       "      <td>hour</td>\n",
       "      <td>3.925416</td>\n",
       "    </tr>\n",
       "    <tr>\n",
       "      <th>8</th>\n",
       "      <td>weather</td>\n",
       "      <td>7.469605</td>\n",
       "    </tr>\n",
       "  </tbody>\n",
       "</table>\n",
       "</div>"
      ],
      "text/plain": [
       "      feature        VIF\n",
       "0     holiday   1.293959\n",
       "1  workingday   5.460216\n",
       "2        temp   7.728628\n",
       "3   windspeed   3.464645\n",
       "4    humidity  12.879300\n",
       "5       month   5.203902\n",
       "6         day   5.321123\n",
       "7        hour   3.925416\n",
       "8     weather   7.469605"
      ]
     },
     "execution_count": 22,
     "metadata": {},
     "output_type": "execute_result"
    }
   ],
   "source": [
    "#removed season, year and atemp\n",
    "\n",
    "data= data[~data.isin([np.nan, np.inf, -np.inf]).any(1)]\n",
    "X_variables = data[[ 'holiday', 'workingday','temp', 'windspeed', 'humidity',\n",
    "                   'month', 'day', 'hour', 'weather']]\n",
    "\n",
    "vif_data = pd.DataFrame()\n",
    "vif_data[\"feature\"] = X_variables.columns\n",
    "vif_data[\"VIF\"] = [variance_inflation_factor(X_variables.values, i) \n",
    "                   for i in range(len(X_variables.columns))]\n",
    "vif_data"
   ]
  },
  {
   "cell_type": "markdown",
   "metadata": {},
   "source": [
    "### Plots of y and X variables"
   ]
  },
  {
   "cell_type": "code",
   "execution_count": 23,
   "metadata": {},
   "outputs": [
    {
     "data": {
      "image/png": "[encoded data removed]",
      "text/plain": [
       "<Figure size 864x1008 with 9 Axes>"
      ]
     },
     "metadata": {
      "needs_background": "light"
     },
     "output_type": "display_data"
    }
   ],
   "source": [
    "f, axes = plt.subplots(3, 3, figsize=(12, 14), sharex=False)\n",
    "a = sns.lineplot(data=data, x=\"holiday\", y=\"count\", ax=axes[0, 0])\n",
    "b = sns.lineplot(data=data, x=\"workingday\", y=\"count\", ax=axes[0, 1])\n",
    "c = sns.lineplot(data=data, x=\"weather\", y=\"count\", ax=axes[0, 2])\n",
    "d = sns.lineplot(data=data, x=\"temp\", y=\"count\", ax=axes[1, 0])\n",
    "e = sns.lineplot(data=data, x=\"humidity\", y=\"count\", ax=axes[1, 1])\n",
    "g = sns.lineplot(data=data, x=\"windspeed\", y=\"count\", ax=axes[1, 2])\n",
    "h = sns.lineplot(data=data, x=\"month\", y=\"count\", ax=axes[2, 0])\n",
    "i = sns.lineplot(data=data, x=\"day\", y=\"count\", ax=axes[2, 1])\n",
    "j = sns.lineplot(data=data, x=\"hour\", y=\"count\", ax=axes[2, 2])"
   ]
  },
  {
   "cell_type": "markdown",
   "metadata": {},
   "source": [
    "## Train test split"
   ]
  },
  {
   "cell_type": "code",
   "execution_count": 24,
   "metadata": {},
   "outputs": [
    {
     "data": {
      "text/plain": [
       "(10886,)"
      ]
     },
     "execution_count": 24,
     "metadata": {},
     "output_type": "execute_result"
    }
   ],
   "source": [
    "y = data['count']\n",
    "y.shape"
   ]
  },
  {
   "cell_type": "code",
   "execution_count": 25,
   "metadata": {},
   "outputs": [
    {
     "data": {
      "text/plain": [
       "(10886, 10)"
      ]
     },
     "execution_count": 25,
     "metadata": {},
     "output_type": "execute_result"
    }
   ],
   "source": [
    "X = data[['holiday', 'workingday', 'weather', 'temp','humidity', 'windspeed', 'day', 'hour', 'month', 'season']]\n",
    "X.shape"
   ]
  },
  {
   "cell_type": "code",
   "execution_count": 26,
   "metadata": {},
   "outputs": [
    {
     "data": {
      "text/plain": [
       "((8708, 10), (2178, 10), (8708,), (2178,))"
      ]
     },
     "execution_count": 26,
     "metadata": {},
     "output_type": "execute_result"
    }
   ],
   "source": [
    "from sklearn.model_selection import train_test_split\n",
    "\n",
    "X_train, X_test, y_train, y_test = train_test_split(X,y, test_size = 0.2, random_state = 42)\n",
    "X_train.shape, X_test.shape, y_train.shape, y_test.shape"
   ]
  },
  {
   "cell_type": "code",
   "execution_count": 27,
   "metadata": {},
   "outputs": [
    {
     "data": {
      "text/html": [
       "<div>\n",
       "<style scoped>\n",
       "    .dataframe tbody tr th:only-of-type {\n",
       "        vertical-align: middle;\n",
       "    }\n",
       "\n",
       "    .dataframe tbody tr th {\n",
       "        vertical-align: top;\n",
       "    }\n",
       "\n",
       "    .dataframe thead th {\n",
       "        text-align: right;\n",
       "    }\n",
       "</style>\n",
       "<table border=\"1\" class=\"dataframe\">\n",
       "  <thead>\n",
       "    <tr style=\"text-align: right;\">\n",
       "      <th></th>\n",
       "      <th>holiday</th>\n",
       "      <th>workingday</th>\n",
       "      <th>weather</th>\n",
       "      <th>temp</th>\n",
       "      <th>humidity</th>\n",
       "      <th>windspeed</th>\n",
       "      <th>day</th>\n",
       "      <th>hour</th>\n",
       "      <th>month</th>\n",
       "      <th>season</th>\n",
       "    </tr>\n",
       "  </thead>\n",
       "  <tbody>\n",
       "    <tr>\n",
       "      <th>2815</th>\n",
       "      <td>0</td>\n",
       "      <td>1</td>\n",
       "      <td>1</td>\n",
       "      <td>27.88</td>\n",
       "      <td>83</td>\n",
       "      <td>6.0032</td>\n",
       "      <td>2</td>\n",
       "      <td>5</td>\n",
       "      <td>7</td>\n",
       "      <td>3</td>\n",
       "    </tr>\n",
       "    <tr>\n",
       "      <th>8695</th>\n",
       "      <td>0</td>\n",
       "      <td>0</td>\n",
       "      <td>1</td>\n",
       "      <td>36.90</td>\n",
       "      <td>39</td>\n",
       "      <td>19.9995</td>\n",
       "      <td>5</td>\n",
       "      <td>16</td>\n",
       "      <td>8</td>\n",
       "      <td>3</td>\n",
       "    </tr>\n",
       "    <tr>\n",
       "      <th>8406</th>\n",
       "      <td>0</td>\n",
       "      <td>1</td>\n",
       "      <td>1</td>\n",
       "      <td>32.80</td>\n",
       "      <td>41</td>\n",
       "      <td>16.9979</td>\n",
       "      <td>2</td>\n",
       "      <td>15</td>\n",
       "      <td>7</td>\n",
       "      <td>3</td>\n",
       "    </tr>\n",
       "    <tr>\n",
       "      <th>1543</th>\n",
       "      <td>0</td>\n",
       "      <td>0</td>\n",
       "      <td>2</td>\n",
       "      <td>14.76</td>\n",
       "      <td>93</td>\n",
       "      <td>7.0015</td>\n",
       "      <td>6</td>\n",
       "      <td>4</td>\n",
       "      <td>4</td>\n",
       "      <td>2</td>\n",
       "    </tr>\n",
       "    <tr>\n",
       "      <th>4952</th>\n",
       "      <td>0</td>\n",
       "      <td>0</td>\n",
       "      <td>1</td>\n",
       "      <td>13.12</td>\n",
       "      <td>45</td>\n",
       "      <td>16.9979</td>\n",
       "      <td>5</td>\n",
       "      <td>10</td>\n",
       "      <td>11</td>\n",
       "      <td>4</td>\n",
       "    </tr>\n",
       "  </tbody>\n",
       "</table>\n",
       "</div>"
      ],
      "text/plain": [
       "      holiday  workingday  weather   temp  humidity  windspeed  day  hour  \\\n",
       "2815        0           1        1  27.88        83     6.0032    2     5   \n",
       "8695        0           0        1  36.90        39    19.9995    5    16   \n",
       "8406        0           1        1  32.80        41    16.9979    2    15   \n",
       "1543        0           0        2  14.76        93     7.0015    6     4   \n",
       "4952        0           0        1  13.12        45    16.9979    5    10   \n",
       "\n",
       "      month  season  \n",
       "2815      7       3  \n",
       "8695      8       3  \n",
       "8406      7       3  \n",
       "1543      4       2  \n",
       "4952     11       4  "
      ]
     },
     "execution_count": 27,
     "metadata": {},
     "output_type": "execute_result"
    }
   ],
   "source": [
    "X_train.head()"
   ]
  },
  {
   "cell_type": "code",
   "execution_count": 28,
   "metadata": {},
   "outputs": [
    {
     "data": {
      "text/html": [
       "<div>\n",
       "<style scoped>\n",
       "    .dataframe tbody tr th:only-of-type {\n",
       "        vertical-align: middle;\n",
       "    }\n",
       "\n",
       "    .dataframe tbody tr th {\n",
       "        vertical-align: top;\n",
       "    }\n",
       "\n",
       "    .dataframe thead th {\n",
       "        text-align: right;\n",
       "    }\n",
       "</style>\n",
       "<table border=\"1\" class=\"dataframe\">\n",
       "  <thead>\n",
       "    <tr style=\"text-align: right;\">\n",
       "      <th></th>\n",
       "      <th>holiday</th>\n",
       "      <th>workingday</th>\n",
       "      <th>weather</th>\n",
       "      <th>temp</th>\n",
       "      <th>humidity</th>\n",
       "      <th>windspeed</th>\n",
       "      <th>day</th>\n",
       "      <th>hour</th>\n",
       "      <th>month</th>\n",
       "      <th>season</th>\n",
       "    </tr>\n",
       "  </thead>\n",
       "  <tbody>\n",
       "    <tr>\n",
       "      <th>3133</th>\n",
       "      <td>0</td>\n",
       "      <td>1</td>\n",
       "      <td>1</td>\n",
       "      <td>33.62</td>\n",
       "      <td>59</td>\n",
       "      <td>0.0000</td>\n",
       "      <td>1</td>\n",
       "      <td>11</td>\n",
       "      <td>7</td>\n",
       "      <td>3</td>\n",
       "    </tr>\n",
       "    <tr>\n",
       "      <th>5786</th>\n",
       "      <td>1</td>\n",
       "      <td>0</td>\n",
       "      <td>1</td>\n",
       "      <td>4.10</td>\n",
       "      <td>54</td>\n",
       "      <td>6.0032</td>\n",
       "      <td>0</td>\n",
       "      <td>6</td>\n",
       "      <td>1</td>\n",
       "      <td>1</td>\n",
       "    </tr>\n",
       "    <tr>\n",
       "      <th>5224</th>\n",
       "      <td>0</td>\n",
       "      <td>0</td>\n",
       "      <td>1</td>\n",
       "      <td>9.84</td>\n",
       "      <td>48</td>\n",
       "      <td>12.9980</td>\n",
       "      <td>6</td>\n",
       "      <td>18</td>\n",
       "      <td>12</td>\n",
       "      <td>4</td>\n",
       "    </tr>\n",
       "    <tr>\n",
       "      <th>8953</th>\n",
       "      <td>0</td>\n",
       "      <td>1</td>\n",
       "      <td>2</td>\n",
       "      <td>29.52</td>\n",
       "      <td>62</td>\n",
       "      <td>12.9980</td>\n",
       "      <td>2</td>\n",
       "      <td>10</td>\n",
       "      <td>8</td>\n",
       "      <td>3</td>\n",
       "    </tr>\n",
       "    <tr>\n",
       "      <th>8054</th>\n",
       "      <td>0</td>\n",
       "      <td>1</td>\n",
       "      <td>1</td>\n",
       "      <td>25.42</td>\n",
       "      <td>53</td>\n",
       "      <td>16.9979</td>\n",
       "      <td>4</td>\n",
       "      <td>23</td>\n",
       "      <td>6</td>\n",
       "      <td>2</td>\n",
       "    </tr>\n",
       "  </tbody>\n",
       "</table>\n",
       "</div>"
      ],
      "text/plain": [
       "      holiday  workingday  weather   temp  humidity  windspeed  day  hour  \\\n",
       "3133        0           1        1  33.62        59     0.0000    1    11   \n",
       "5786        1           0        1   4.10        54     6.0032    0     6   \n",
       "5224        0           0        1   9.84        48    12.9980    6    18   \n",
       "8953        0           1        2  29.52        62    12.9980    2    10   \n",
       "8054        0           1        1  25.42        53    16.9979    4    23   \n",
       "\n",
       "      month  season  \n",
       "3133      7       3  \n",
       "5786      1       1  \n",
       "5224     12       4  \n",
       "8953      8       3  \n",
       "8054      6       2  "
      ]
     },
     "execution_count": 28,
     "metadata": {},
     "output_type": "execute_result"
    }
   ],
   "source": [
    "X_test.head()"
   ]
  },
  {
   "cell_type": "markdown",
   "metadata": {},
   "source": [
    "## Feature Engineering"
   ]
  },
  {
   "cell_type": "markdown",
   "metadata": {},
   "source": [
    "### Preprocessor for windspeed and humidity"
   ]
  },
  {
   "cell_type": "code",
   "execution_count": 29,
   "metadata": {},
   "outputs": [],
   "source": [
    "from sklearn.preprocessing import PolynomialFeatures\n",
    "poly2_transformer = PolynomialFeatures(degree= 2, include_bias= False)"
   ]
  },
  {
   "cell_type": "markdown",
   "metadata": {},
   "source": [
    "### Preprocessor for month, hour and weather"
   ]
  },
  {
   "cell_type": "code",
   "execution_count": 30,
   "metadata": {},
   "outputs": [],
   "source": [
    "from sklearn.preprocessing import OneHotEncoder, MinMaxScaler\n",
    "encoder = OneHotEncoder(sparse=False, handle_unknown='ignore')"
   ]
  },
  {
   "cell_type": "code",
   "execution_count": 31,
   "metadata": {},
   "outputs": [],
   "source": [
    "scaler = MinMaxScaler()"
   ]
  },
  {
   "cell_type": "markdown",
   "metadata": {},
   "source": [
    "### Preprocessor for temp and humidity"
   ]
  },
  {
   "cell_type": "code",
   "execution_count": 32,
   "metadata": {},
   "outputs": [],
   "source": [
    "from sklearn.pipeline import make_pipeline\n",
    "action = make_pipeline(PolynomialFeatures(degree= 3, include_bias= False), PolynomialFeatures(interaction_only=True, include_bias= False))"
   ]
  },
  {
   "cell_type": "code",
   "execution_count": 33,
   "metadata": {},
   "outputs": [],
   "source": [
    "from sklearn.preprocessing import KBinsDiscretizer\n",
    "bin_transformer = KBinsDiscretizer(n_bins= 7, encode = 'onehot-dense', strategy = 'quantile')"
   ]
  },
  {
   "cell_type": "code",
   "execution_count": null,
   "metadata": {},
   "outputs": [],
   "source": []
  },
  {
   "cell_type": "markdown",
   "metadata": {},
   "source": [
    "### ColumnTransformer"
   ]
  },
  {
   "cell_type": "code",
   "execution_count": 39,
   "metadata": {},
   "outputs": [],
   "source": [
    "from sklearn.compose import ColumnTransformer\n",
    "\n",
    "feature_transform = ColumnTransformer([\n",
    "    ('do_nothing', 'passthrough', ['workingday', 'day']),\n",
    "    #('poly2', poly2_transformer, [ 'windspeed', 'humidity']),\n",
    "    ('inter', action, ['windspeed', 'humidity', 'temp']),\n",
    "    #('temp', bin_transformer, ['temp']),\n",
    "    #('scaler', scaler, ['weather']),\n",
    "    ('encoder', encoder, ['month', 'hour','weather']),\n",
    "    #('hours', hours_transformer, ['hour']),\n",
    "    #('drop_features','drop',['day', 'hour']),\n",
    "\n",
    "])\n"
   ]
  },
  {
   "cell_type": "code",
   "execution_count": 40,
   "metadata": {},
   "outputs": [
    {
     "data": {
      "text/plain": [
       "array([[ 1.    ,  2.    ,  6.0032, ...,  0.    ,  0.    ,  0.    ],\n",
       "       [ 0.    ,  5.    , 19.9995, ...,  0.    ,  0.    ,  0.    ],\n",
       "       [ 1.    ,  2.    , 16.9979, ...,  0.    ,  0.    ,  0.    ],\n",
       "       ...,\n",
       "       [ 0.    ,  6.    , 16.9979, ...,  0.    ,  0.    ,  0.    ],\n",
       "       [ 0.    ,  5.    , 35.0008, ...,  0.    ,  0.    ,  0.    ],\n",
       "       [ 1.    ,  2.    , 12.998 , ...,  1.    ,  0.    ,  0.    ]])"
      ]
     },
     "execution_count": 40,
     "metadata": {},
     "output_type": "execute_result"
    }
   ],
   "source": [
    "X_train_trans = feature_transform.fit_transform(X_train)\n",
    "X_train_trans"
   ]
  },
  {
   "cell_type": "code",
   "execution_count": null,
   "metadata": {},
   "outputs": [],
   "source": []
  },
  {
   "cell_type": "markdown",
   "metadata": {},
   "source": [
    "## Fit Linear Regression"
   ]
  },
  {
   "cell_type": "code",
   "execution_count": 41,
   "metadata": {},
   "outputs": [],
   "source": [
    "import numpy as np\n",
    "y_train_log = np.log1p(y_train)\n",
    "y_test_log = np.log1p(y_test)"
   ]
  },
  {
   "cell_type": "code",
   "execution_count": 42,
   "metadata": {},
   "outputs": [
    {
     "data": {
      "text/plain": [
       "LinearRegression()"
      ]
     },
     "execution_count": 42,
     "metadata": {},
     "output_type": "execute_result"
    }
   ],
   "source": [
    "from sklearn.linear_model import LinearRegression\n",
    "m = LinearRegression()\n",
    "\n",
    "#ylog_train = np.log1p(y_train)\n",
    "m.fit(X_train_trans, y_train_log)"
   ]
  },
  {
   "cell_type": "code",
   "execution_count": null,
   "metadata": {},
   "outputs": [],
   "source": []
  },
  {
   "cell_type": "code",
   "execution_count": 43,
   "metadata": {},
   "outputs": [
    {
     "data": {
      "text/plain": [
       "0.82"
      ]
     },
     "execution_count": 43,
     "metadata": {},
     "output_type": "execute_result"
    }
   ],
   "source": [
    "round(m.score(X_train_trans, y_train_log),3)"
   ]
  },
  {
   "cell_type": "code",
   "execution_count": 44,
   "metadata": {},
   "outputs": [],
   "source": [
    "X_test_trans = feature_transform.transform(X_test)"
   ]
  },
  {
   "cell_type": "code",
   "execution_count": null,
   "metadata": {},
   "outputs": [],
   "source": []
  },
  {
   "cell_type": "code",
   "execution_count": 45,
   "metadata": {},
   "outputs": [
    {
     "data": {
      "text/plain": [
       "0.81"
      ]
     },
     "execution_count": 45,
     "metadata": {},
     "output_type": "execute_result"
    }
   ],
   "source": [
    "round(m.score(X_test_trans, y_test_log),3)"
   ]
  },
  {
   "cell_type": "code",
   "execution_count": 46,
   "metadata": {},
   "outputs": [],
   "source": [
    "y_pred = m.predict(X_test_trans)"
   ]
  },
  {
   "cell_type": "code",
   "execution_count": 47,
   "metadata": {},
   "outputs": [],
   "source": [
    "y_pred2 = np.exp(y_pred)-1"
   ]
  },
  {
   "cell_type": "code",
   "execution_count": null,
   "metadata": {},
   "outputs": [],
   "source": []
  },
  {
   "cell_type": "code",
   "execution_count": 48,
   "metadata": {},
   "outputs": [],
   "source": [
    "from sklearn.metrics import mean_squared_error, mean_absolute_error, r2_score, mean_squared_log_error"
   ]
  },
  {
   "cell_type": "code",
   "execution_count": 49,
   "metadata": {},
   "outputs": [
    {
     "name": "stdout",
     "output_type": "stream",
     "text": [
      "R^2: 0.65\n"
     ]
    }
   ],
   "source": [
    "print(f'R^2: {round(r2_score(y_test, y_pred2),2)}')"
   ]
  },
  {
   "cell_type": "code",
   "execution_count": 50,
   "metadata": {},
   "outputs": [
    {
     "name": "stdout",
     "output_type": "stream",
     "text": [
      "MSE: 11415.76\n"
     ]
    }
   ],
   "source": [
    "print(f'MSE: {round(mean_squared_error(y_test, y_pred2),2)}')"
   ]
  },
  {
   "cell_type": "code",
   "execution_count": 51,
   "metadata": {},
   "outputs": [
    {
     "name": "stdout",
     "output_type": "stream",
     "text": [
      "MAE: 69.13\n"
     ]
    }
   ],
   "source": [
    "print(f'MAE: {round(mean_absolute_error(y_test, y_pred2),2)}')"
   ]
  },
  {
   "cell_type": "code",
   "execution_count": 52,
   "metadata": {},
   "outputs": [
    {
     "name": "stdout",
     "output_type": "stream",
     "text": [
      "RMSLE: 0.39\n"
     ]
    }
   ],
   "source": [
    "print(f'RMSLE: {round(mean_squared_log_error(y_test, y_pred2),2)}')"
   ]
  },
  {
   "cell_type": "markdown",
   "metadata": {},
   "source": [
    "## OLS output"
   ]
  },
  {
   "cell_type": "code",
   "execution_count": 53,
   "metadata": {},
   "outputs": [],
   "source": [
    "import statsmodels.api as sm\n",
    "from scipy import stats\n",
    "import numpy as np"
   ]
  },
  {
   "cell_type": "code",
   "execution_count": 54,
   "metadata": {},
   "outputs": [],
   "source": [
    "#X_train_trans.shape, y_train.shape"
   ]
  },
  {
   "cell_type": "code",
   "execution_count": 55,
   "metadata": {},
   "outputs": [],
   "source": [
    "mod = sm.OLS(y_train_log, X_train_trans)"
   ]
  },
  {
   "cell_type": "code",
   "execution_count": 56,
   "metadata": {
    "scrolled": true
   },
   "outputs": [
    {
     "name": "stdout",
     "output_type": "stream",
     "text": [
      "                            OLS Regression Results                            \n",
      "==============================================================================\n",
      "Dep. Variable:                  count   R-squared:                       0.820\n",
      "Model:                            OLS   Adj. R-squared:                  0.817\n",
      "Method:                 Least Squares   F-statistic:                     331.0\n",
      "Date:                Sat, 05 Feb 2022   Prob (F-statistic):               0.00\n",
      "Time:                        23:17:10   Log-Likelihood:                -7921.7\n",
      "No. Observations:                8708   AIC:                         1.608e+04\n",
      "Df Residuals:                    8589   BIC:                         1.692e+04\n",
      "Df Model:                         118                                         \n",
      "Covariance Type:            nonrobust                                         \n",
      "==============================================================================\n",
      "                 coef    std err          t      P>|t|      [0.025      0.975]\n",
      "------------------------------------------------------------------------------\n",
      "x1            -0.0096      0.020     -0.478      0.632      -0.049       0.030\n",
      "x2             0.0200      0.005      4.269      0.000       0.011       0.029\n",
      "x3            -0.0067      0.774     -0.009      0.993      -1.524       1.511\n",
      "x4            -0.5105      0.725     -0.704      0.481      -1.932       0.911\n",
      "x5            -3.2552      2.006     -1.623      0.105      -7.187       0.677\n",
      "x6            -0.0021      0.034     -0.063      0.950      -0.068       0.064\n",
      "x7            -0.0066      0.019     -0.348      0.728      -0.044       0.031\n",
      "x8             0.0190      0.045      0.421      0.674      -0.070       0.108\n",
      "x9             0.0114      0.018      0.637      0.524      -0.024       0.046\n",
      "x10            0.0549      0.047      1.170      0.242      -0.037       0.147\n",
      "x11            0.2849      0.143      1.999      0.046       0.006       0.564\n",
      "x12            0.0004      0.001      0.690      0.490      -0.001       0.001\n",
      "x13           -0.0002      0.000     -0.595      0.552      -0.001       0.001\n",
      "x14           -0.0001      0.001     -0.152      0.880      -0.002       0.001\n",
      "x15            0.0001      0.000      0.455      0.649      -0.000       0.001\n",
      "x16            0.0005      0.001      0.646      0.518      -0.001       0.002\n",
      "x17           -0.0020      0.002     -1.218      0.223      -0.005       0.001\n",
      "x18         -6.73e-05      0.000     -0.597      0.551      -0.000       0.000\n",
      "x19           -0.0007      0.001     -1.163      0.245      -0.002       0.000\n",
      "x20           -0.0023      0.002     -1.309      0.190      -0.006       0.001\n",
      "x21           -0.0055      0.003     -2.073      0.038      -0.011      -0.000\n",
      "x22           -0.0065      0.019     -0.343      0.732      -0.044       0.031\n",
      "x23            0.0190      0.045      0.420      0.674      -0.069       0.107\n",
      "x24            0.0003      0.001      0.631      0.528      -0.001       0.001\n",
      "x25           -0.0002      0.000     -0.508      0.611      -0.001       0.001\n",
      "x26           -0.0001      0.001     -0.157      0.875      -0.002       0.001\n",
      "x27            0.0002      0.000      0.645      0.519      -0.000       0.001\n",
      "x28            0.0005      0.001      0.633      0.527      -0.001       0.002\n",
      "x29           -0.0021      0.002     -1.225      0.221      -0.005       0.001\n",
      "x30        -1.302e-05   1.85e-05     -0.704      0.481   -4.93e-05    2.32e-05\n",
      "x31         6.371e-06    9.8e-06      0.650      0.516   -1.28e-05    2.56e-05\n",
      "x32         -2.03e-05   1.59e-05     -1.275      0.202   -5.15e-05    1.09e-05\n",
      "x33         8.738e-06   8.33e-06      1.049      0.294   -7.59e-06    2.51e-05\n",
      "x34         4.879e-06   1.12e-05      0.434      0.664   -1.72e-05    2.69e-05\n",
      "x35         3.189e-05   3.15e-05      1.012      0.312   -2.99e-05    9.37e-05\n",
      "x36        -2.955e-06   2.67e-06     -1.105      0.269   -8.19e-06    2.29e-06\n",
      "x37        -8.438e-06   8.71e-06     -0.969      0.333   -2.55e-05    8.63e-06\n",
      "x38        -1.527e-05   2.34e-05     -0.651      0.515   -6.12e-05    3.07e-05\n",
      "x39            0.0001   5.48e-05      1.984      0.047    1.28e-06       0.000\n",
      "x40            0.0549      0.047      1.170      0.242      -0.037       0.147\n",
      "x41           -0.0002      0.000     -0.444      0.657      -0.001       0.001\n",
      "x42            0.0001      0.000      0.510      0.610      -0.000       0.001\n",
      "x43            0.0005      0.001      0.650      0.516      -0.001       0.002\n",
      "x44        -7.952e-05      0.000     -0.661      0.509      -0.000       0.000\n",
      "x45           -0.0007      0.001     -1.165      0.244      -0.002       0.000\n",
      "x46           -0.0023      0.002     -1.310      0.190      -0.006       0.001\n",
      "x47        -2.339e-08   8.63e-06     -0.003      0.998   -1.69e-05    1.69e-05\n",
      "x48         6.557e-07   5.76e-06      0.114      0.909   -1.06e-05    1.19e-05\n",
      "x49         4.356e-06   1.11e-05      0.393      0.694   -1.73e-05    2.61e-05\n",
      "x50        -1.797e-06   3.03e-06     -0.593      0.554   -7.74e-06    4.15e-06\n",
      "x51        -8.502e-06   8.67e-06     -0.980      0.327   -2.55e-05     8.5e-06\n",
      "x52         -1.53e-05   2.34e-05     -0.653      0.514   -6.12e-05    3.06e-05\n",
      "x53         9.656e-07   1.63e-06      0.594      0.553   -2.22e-06    4.15e-06\n",
      "x54         7.154e-06   5.53e-06      1.294      0.196   -3.69e-06     1.8e-05\n",
      "x55          2.84e-05   2.26e-05      1.257      0.209   -1.59e-05    7.27e-05\n",
      "x56         6.241e-05   5.04e-05      1.239      0.215   -3.63e-05       0.000\n",
      "x57           -0.0001      0.001     -0.136      0.892      -0.002       0.001\n",
      "x58            0.0005      0.001      0.650      0.516      -0.001       0.002\n",
      "x59           -0.0021      0.002     -1.226      0.220      -0.005       0.001\n",
      "x60           -0.0007      0.001     -1.165      0.244      -0.002       0.000\n",
      "x61           -0.0023      0.002     -1.310      0.190      -0.006       0.001\n",
      "x62           -0.0055      0.003     -2.073      0.038      -0.011      -0.000\n",
      "x63        -2.035e-05   1.59e-05     -1.281      0.200   -5.15e-05    1.08e-05\n",
      "x64         4.534e-06   1.11e-05      0.407      0.684   -1.73e-05    2.64e-05\n",
      "x65         3.182e-05   3.15e-05      1.010      0.313   -2.99e-05    9.36e-05\n",
      "x66        -8.085e-06    8.9e-06     -0.908      0.364   -2.55e-05    9.37e-06\n",
      "x67        -1.527e-05   2.34e-05     -0.652      0.515   -6.12e-05    3.07e-05\n",
      "x68            0.0001   5.49e-05      1.984      0.047    1.33e-06       0.000\n",
      "x69         9.207e-06   6.88e-06      1.339      0.181   -4.28e-06    2.27e-05\n",
      "x70         2.898e-05    2.3e-05      1.262      0.207    -1.6e-05     7.4e-05\n",
      "x71         6.221e-05   5.03e-05      1.238      0.216   -3.63e-05       0.000\n",
      "x72            0.0002      0.000      1.868      0.062   -9.51e-06       0.000\n",
      "x73        -2.564e-07   8.64e-06     -0.030      0.976   -1.72e-05    1.67e-05\n",
      "x74        -2.054e-05   1.59e-05     -1.295      0.195   -5.16e-05    1.06e-05\n",
      "x75         1.008e-06   5.76e-06      0.175      0.861   -1.03e-05    1.23e-05\n",
      "x76         4.296e-06   1.11e-05      0.389      0.698   -1.74e-05     2.6e-05\n",
      "x77          3.17e-05   3.15e-05      1.007      0.314      -3e-05    9.34e-05\n",
      "x78         6.032e-08   1.36e-07      0.442      0.658   -2.07e-07    3.28e-07\n",
      "x79         6.429e-06   4.86e-06      1.322      0.186    -3.1e-06     1.6e-05\n",
      "x80         2.522e-06   1.56e-06      1.613      0.107   -5.43e-07    5.59e-06\n",
      "x81         1.037e-05   7.86e-06      1.320      0.187   -5.04e-06    2.58e-05\n",
      "x82        -3.723e-07   3.51e-07     -1.061      0.289   -1.06e-06    3.15e-07\n",
      "x83         1.985e-06   1.28e-06      1.548      0.122   -5.29e-07     4.5e-06\n",
      "x84        -1.847e-05   1.39e-05     -1.327      0.184   -4.57e-05    8.81e-06\n",
      "x85         4.307e-06   3.24e-06      1.331      0.183   -2.04e-06    1.07e-05\n",
      "x86         1.328e-06   9.69e-07      1.370      0.171   -5.71e-07    3.23e-06\n",
      "x87        -1.353e-06   6.75e-07     -2.005      0.045   -2.68e-06   -3.02e-08\n",
      "x88         4.387e-06   1.11e-05      0.396      0.692   -1.73e-05    2.61e-05\n",
      "x89        -1.357e-06   3.22e-06     -0.421      0.674   -7.67e-06    4.96e-06\n",
      "x90        -8.434e-06   8.71e-06     -0.968      0.333   -2.55e-05    8.64e-06\n",
      "x91        -1.532e-05   2.34e-05     -0.655      0.513   -6.12e-05    3.06e-05\n",
      "x92        -6.455e-06   4.88e-06     -1.324      0.186    -1.6e-05    3.11e-06\n",
      "x93        -6.649e-06   5.03e-06     -1.322      0.186   -1.65e-05    3.21e-06\n",
      "x94         5.174e-06   3.86e-06      1.340      0.180    -2.4e-06    1.27e-05\n",
      "x95         2.559e-05   1.94e-05      1.322      0.186   -1.24e-05    6.35e-05\n",
      "x96        -1.614e-05   1.22e-05     -1.325      0.185      -4e-05    7.74e-06\n",
      "x97         3.117e-06    2.3e-06      1.356      0.175   -1.39e-06    7.62e-06\n",
      "x98        -5.384e-05   4.07e-05     -1.322      0.186      -0.000     2.6e-05\n",
      "x99         2.534e-05    1.9e-05      1.333      0.183   -1.19e-05    6.26e-05\n",
      "x100        8.179e-06   5.83e-06      1.402      0.161   -3.26e-06    1.96e-05\n",
      "x101        1.339e-06   6.85e-07      1.954      0.051   -4.18e-09    2.68e-06\n",
      "x102       -8.531e-06   8.66e-06     -0.985      0.325   -2.55e-05    8.44e-06\n",
      "x103       -1.521e-05   2.35e-05     -0.648      0.517   -6.12e-05    3.08e-05\n",
      "x104           0.0001   5.49e-05      1.984      0.047    1.33e-06       0.000\n",
      "x105       -1.622e-06   1.61e-06     -1.007      0.314   -4.78e-06    1.54e-06\n",
      "x106        -4.69e-06   3.59e-06     -1.305      0.192   -1.17e-05    2.36e-06\n",
      "x107        -1.16e-06   1.22e-06     -0.952      0.341   -3.55e-06    1.23e-06\n",
      "x108        9.132e-06   6.94e-06      1.316      0.188   -4.47e-06    2.27e-05\n",
      "x109       -4.123e-06   3.18e-06     -1.295      0.195   -1.04e-05    2.12e-06\n",
      "x110       -1.551e-06    7.4e-07     -2.096      0.036      -3e-06      -1e-07\n",
      "x111       -1.249e-05   9.58e-06     -1.304      0.192   -3.13e-05    6.28e-06\n",
      "x112       -3.515e-06   2.98e-06     -1.179      0.238   -9.36e-06    2.33e-06\n",
      "x113       -8.399e-08   7.14e-07     -0.118      0.906   -1.48e-06    1.32e-06\n",
      "x114       -3.193e-06   1.41e-06     -2.260      0.024   -5.96e-06   -4.23e-07\n",
      "x115        5.434e-06   4.49e-06      1.209      0.227   -3.38e-06    1.42e-05\n",
      "x116        2.859e-05   2.27e-05      1.259      0.208   -1.59e-05    7.31e-05\n",
      "x117       -3.791e-06   2.88e-06     -1.318      0.188   -9.43e-06    1.85e-06\n",
      "x118       -7.181e-06   5.48e-06     -1.311      0.190   -1.79e-05    3.56e-06\n",
      "x119        6.664e-06   5.05e-06      1.320      0.187   -3.23e-06    1.66e-05\n",
      "x120        5.389e-05   4.07e-05      1.324      0.186   -2.59e-05       0.000\n",
      "x121       -1.461e-05   1.11e-05     -1.312      0.190   -3.64e-05    7.22e-06\n",
      "x122         5.61e-07   1.59e-07      3.519      0.000    2.49e-07    8.73e-07\n",
      "x123       -2.106e-09   4.82e-09     -0.437      0.662   -1.16e-08    7.34e-09\n",
      "x124        7.873e-05   5.94e-05      1.325      0.185   -3.78e-05       0.000\n",
      "x125       -4.105e-05    3.1e-05     -1.326      0.185      -0.000    1.96e-05\n",
      "x126       -2.922e-05    2.2e-05     -1.330      0.183   -7.23e-05    1.38e-05\n",
      "x127        6.227e-05   5.03e-05      1.238      0.216   -3.63e-05       0.000\n",
      "x128       -3.649e-08   1.72e-07     -0.213      0.832   -3.73e-07       3e-07\n",
      "x129       -4.308e-06   3.26e-06     -1.323      0.186   -1.07e-05    2.08e-06\n",
      "x130        -2.41e-06    1.9e-06     -1.269      0.204   -6.13e-06    1.31e-06\n",
      "x131        2.055e-06   1.52e-06      1.353      0.176   -9.23e-07    5.03e-06\n",
      "x132       -3.949e-06   3.32e-06     -1.191      0.234   -1.04e-05    2.55e-06\n",
      "x133        3.043e-07   5.11e-07      0.595      0.552   -6.98e-07    1.31e-06\n",
      "x134       -7.885e-05   5.95e-05     -1.325      0.185      -0.000    3.78e-05\n",
      "x135        3.322e-05   2.51e-05      1.323      0.186    -1.6e-05    8.25e-05\n",
      "x136       -1.741e-05    1.3e-05     -1.338      0.181   -4.29e-05     8.1e-06\n",
      "x137       -9.185e-07   1.15e-06     -0.801      0.423   -3.17e-06    1.33e-06\n",
      "x138        6.699e-08   4.47e-07      0.150      0.881   -8.08e-07    9.42e-07\n",
      "x139        1.825e-06   1.34e-06      1.359      0.174   -8.07e-07    4.46e-06\n",
      "x140       -9.114e-07   6.45e-07     -1.413      0.158   -2.18e-06    3.53e-07\n",
      "x141       -1.793e-08   3.67e-07     -0.049      0.961   -7.38e-07    7.02e-07\n",
      "x142       -8.687e-07   1.22e-06     -0.711      0.477   -3.26e-06    1.53e-06\n",
      "x143       -3.718e-06   1.56e-06     -2.382      0.017   -6.78e-06   -6.58e-07\n",
      "x144        7.301e-06   5.51e-06      1.326      0.185   -3.49e-06    1.81e-05\n",
      "x145        4.496e-05    3.4e-05      1.322      0.186   -2.17e-05       0.000\n",
      "x146           -1e-06   1.18e-06     -0.850      0.396   -3.31e-06    1.31e-06\n",
      "x147       -1.164e-06      8e-07     -1.455      0.146   -2.73e-06    4.04e-07\n",
      "x148        -3.98e-10   2.17e-09     -0.183      0.855   -4.66e-09    3.87e-09\n",
      "x149       -1.149e-09   3.88e-09     -0.296      0.767   -8.76e-09    6.47e-09\n",
      "x150        1.171e-09   1.35e-09      0.865      0.387   -1.48e-09    3.83e-09\n",
      "x151       -5.902e-05   4.46e-05     -1.323      0.186      -0.000    2.84e-05\n",
      "x152       -1.181e-08   7.26e-09     -1.627      0.104    -2.6e-08    2.42e-09\n",
      "x153          -0.0006      0.000     -1.322      0.186      -0.001       0.000\n",
      "x154          -0.0001      0.000     -1.322      0.186      -0.000    6.82e-05\n",
      "x155       -7.827e-05   5.93e-05     -1.320      0.187      -0.000    3.79e-05\n",
      "x156       -1.451e-05   1.11e-05     -1.312      0.190   -3.62e-05    7.17e-06\n",
      "x157        5.901e-05   4.46e-05      1.323      0.186   -2.84e-05       0.000\n",
      "x158           0.0006      0.000      1.322      0.186      -0.000       0.001\n",
      "x159          -0.0001    9.5e-05     -1.319      0.187      -0.000    6.09e-05\n",
      "x160         6.33e-05   4.79e-05      1.322      0.186   -3.05e-05       0.000\n",
      "x161        2.598e-10   3.99e-10      0.651      0.515   -5.22e-10    1.04e-09\n",
      "x162           0.0008      0.001      1.324      0.186      -0.000       0.002\n",
      "x163        7.536e-06   5.93e-06      1.271      0.204   -4.09e-06    1.92e-05\n",
      "x164       -7.199e-05   5.44e-05     -1.323      0.186      -0.000    3.46e-05\n",
      "x165           0.0003      0.000      1.321      0.187      -0.000       0.001\n",
      "x166        1.497e-05   1.14e-05      1.312      0.190    -7.4e-06    3.73e-05\n",
      "x167        1.451e-05   1.11e-05      1.312      0.190   -7.17e-06    3.62e-05\n",
      "x168          -0.0007      0.001     -1.323      0.186      -0.002       0.000\n",
      "x169        8.822e-05   6.67e-05      1.323      0.186   -4.25e-05       0.000\n",
      "x170        2.558e-05   1.93e-05      1.328      0.184   -1.22e-05    6.34e-05\n",
      "x171        4.607e-08   1.75e-08      2.632      0.008    1.18e-08    8.04e-08\n",
      "x172          -0.0001   8.09e-05     -1.331      0.183      -0.000    5.09e-05\n",
      "x173       -9.575e-05   7.26e-05     -1.319      0.187      -0.000    4.66e-05\n",
      "x174       -1.703e-10   1.41e-10     -1.210      0.226   -4.46e-10    1.05e-10\n",
      "x175           0.0009      0.001      1.325      0.185      -0.000       0.002\n",
      "x176          -0.0002      0.000     -1.328      0.184      -0.001       0.000\n",
      "x177          -0.0001      0.000     -1.322      0.186      -0.000     6.7e-05\n",
      "x178         4.64e-05   3.51e-05      1.321      0.187   -2.25e-05       0.000\n",
      "x179          -0.0009      0.001     -1.325      0.185      -0.002       0.000\n",
      "x180           0.0005      0.000      1.324      0.185      -0.000       0.001\n",
      "x181       -9.915e-05   7.49e-05     -1.324      0.186      -0.000    4.77e-05\n",
      "x182       -3.302e-05   2.49e-05     -1.326      0.185   -8.18e-05    1.58e-05\n",
      "x183          -0.0002      0.000     -1.321      0.186      -0.001       0.000\n",
      "x184           0.0002      0.000      1.323      0.186      -0.000       0.001\n",
      "x185        3.303e-05   2.49e-05      1.326      0.185   -1.58e-05    8.19e-05\n",
      "x186        4.904e-08   2.27e-08      2.165      0.030    4.63e-09    9.35e-08\n",
      "x187        2.201e-10   2.22e-10      0.991      0.322   -2.15e-10    6.56e-10\n",
      "x188        1.787e-09   9.53e-10      1.874      0.061   -8.19e-11    3.66e-09\n",
      "x189           0.0004      0.000      1.328      0.184      -0.000       0.001\n",
      "x190          -0.0004      0.000     -1.328      0.184      -0.001       0.000\n",
      "x191        1.462e-08   9.23e-09      1.583      0.114   -3.49e-09    3.27e-08\n",
      "x192       -1.247e-09    1.5e-08     -0.083      0.934   -3.07e-08    2.83e-08\n",
      "x193           3.2760      2.715      1.207      0.228      -2.045       8.597\n",
      "x194           3.3617      2.714      1.239      0.215      -1.958       8.681\n",
      "x195           3.4082      2.714      1.256      0.209      -1.911       8.728\n",
      "x196           3.4485      2.714      1.271      0.204      -1.871       8.768\n",
      "x197           3.6918      2.714      1.360      0.174      -1.628       9.012\n",
      "x198           3.6241      2.715      1.335      0.182      -1.699       8.947\n",
      "x199           3.5860      2.716      1.321      0.187      -1.737       8.909\n",
      "x200           3.5916      2.715      1.323      0.186      -1.731       8.914\n",
      "x201           3.6740      2.715      1.353      0.176      -1.648       8.996\n",
      "x202           3.7811      2.715      1.393      0.164      -1.541       9.103\n",
      "x203           3.7936      2.714      1.398      0.162      -1.526       9.113\n",
      "x204           3.8393      2.713      1.415      0.157      -1.478       9.157\n",
      "x205           1.0194      1.357      0.751      0.452      -1.640       3.679\n",
      "x206           0.3738      1.357      0.276      0.783      -2.286       3.033\n",
      "x207          -0.0365      1.356     -0.027      0.979      -2.695       2.622\n",
      "x208          -0.5596      1.357     -0.412      0.680      -3.220       2.101\n",
      "x209          -0.8067      1.357     -0.594      0.552      -3.467       1.853\n",
      "x210           0.1305      1.357      0.096      0.923      -2.529       2.791\n",
      "x211           1.3476      1.357      0.993      0.321      -1.313       4.008\n",
      "x212           2.2735      1.357      1.675      0.094      -0.387       4.934\n",
      "x213           2.9097      1.357      2.144      0.032       0.249       5.571\n",
      "x214           2.5537      1.358      1.881      0.060      -0.108       5.216\n",
      "x215           2.2020      1.358      1.622      0.105      -0.459       4.863\n",
      "x216           2.2916      1.358      1.687      0.092      -0.370       4.954\n",
      "x217           2.4662      1.358      1.815      0.069      -0.197       5.129\n",
      "x218           2.4556      1.358      1.808      0.071      -0.207       5.118\n",
      "x219           2.3660      1.358      1.742      0.082      -0.297       5.029\n",
      "x220           2.4056      1.358      1.771      0.077      -0.256       5.068\n",
      "x221           2.6739      1.358      1.969      0.049       0.012       5.336\n",
      "x222           3.0805      1.358      2.269      0.023       0.419       5.742\n",
      "x223           3.0047      1.358      2.213      0.027       0.343       5.666\n",
      "x224           2.7566      1.357      2.031      0.042       0.097       5.417\n",
      "x225           2.4330      1.357      1.792      0.073      -0.228       5.094\n",
      "x226           2.1928      1.357      1.616      0.106      -0.468       4.853\n",
      "x227           1.9640      1.357      1.447      0.148      -0.697       4.624\n",
      "x228           1.5781      1.357      1.163      0.245      -1.083       4.239\n",
      "x229          10.8111      8.142      1.328      0.184      -5.149      26.772\n",
      "x230          10.8148      8.142      1.328      0.184      -5.145      26.775\n",
      "x231          10.4731      8.142      1.286      0.198      -5.488      26.434\n",
      "x232          10.9768      8.161      1.345      0.179      -5.021      26.974\n",
      "==============================================================================\n",
      "Omnibus:                      529.357   Durbin-Watson:                   1.979\n",
      "Prob(Omnibus):                  0.000   Jarque-Bera (JB):              979.364\n",
      "Skew:                          -0.452   Prob(JB):                    2.16e-213\n",
      "Kurtosis:                       4.372   Cond. No.                     1.54e+17\n",
      "==============================================================================\n",
      "\n",
      "Notes:\n",
      "[1] Standard Errors assume that the covariance matrix of the errors is correctly specified.\n",
      "[2] The condition number is large, 1.54e+17. This might indicate that there are\n",
      "strong multicollinearity or other numerical problems.\n"
     ]
    }
   ],
   "source": [
    "res = mod.fit()\n",
    "print(res.summary())"
   ]
  },
  {
   "cell_type": "code",
   "execution_count": 57,
   "metadata": {},
   "outputs": [],
   "source": [
    "#X_train_trans"
   ]
  },
  {
   "cell_type": "markdown",
   "metadata": {},
   "source": [
    "## Poisson regression"
   ]
  },
  {
   "cell_type": "code",
   "execution_count": 58,
   "metadata": {},
   "outputs": [
    {
     "data": {
      "text/plain": [
       "(10886, 9)"
      ]
     },
     "execution_count": 58,
     "metadata": {},
     "output_type": "execute_result"
    }
   ],
   "source": [
    "P = data[['holiday', 'workingday', 'weather', 'temp','humidity', 'windspeed','month', 'day', 'hour']]\n",
    "P.shape"
   ]
  },
  {
   "cell_type": "code",
   "execution_count": 59,
   "metadata": {},
   "outputs": [
    {
     "data": {
      "text/plain": [
       "((8708, 9), (2178, 9), (8708,), (2178,))"
      ]
     },
     "execution_count": 59,
     "metadata": {},
     "output_type": "execute_result"
    }
   ],
   "source": [
    "from sklearn.model_selection import train_test_split\n",
    "\n",
    "P_train, P_test, y_train, y_test = train_test_split(P,y, test_size = 0.2, random_state = 42)\n",
    "P_train.shape, P_test.shape, y_train.shape, y_test.shape"
   ]
  },
  {
   "cell_type": "code",
   "execution_count": 60,
   "metadata": {},
   "outputs": [
    {
     "data": {
      "text/html": [
       "<div>\n",
       "<style scoped>\n",
       "    .dataframe tbody tr th:only-of-type {\n",
       "        vertical-align: middle;\n",
       "    }\n",
       "\n",
       "    .dataframe tbody tr th {\n",
       "        vertical-align: top;\n",
       "    }\n",
       "\n",
       "    .dataframe thead th {\n",
       "        text-align: right;\n",
       "    }\n",
       "</style>\n",
       "<table border=\"1\" class=\"dataframe\">\n",
       "  <thead>\n",
       "    <tr style=\"text-align: right;\">\n",
       "      <th></th>\n",
       "      <th>holiday</th>\n",
       "      <th>workingday</th>\n",
       "      <th>weather</th>\n",
       "      <th>temp</th>\n",
       "      <th>humidity</th>\n",
       "      <th>windspeed</th>\n",
       "      <th>month</th>\n",
       "      <th>day</th>\n",
       "      <th>hour</th>\n",
       "    </tr>\n",
       "  </thead>\n",
       "  <tbody>\n",
       "    <tr>\n",
       "      <th>2815</th>\n",
       "      <td>0</td>\n",
       "      <td>1</td>\n",
       "      <td>1</td>\n",
       "      <td>27.88</td>\n",
       "      <td>83</td>\n",
       "      <td>6.0032</td>\n",
       "      <td>7</td>\n",
       "      <td>2</td>\n",
       "      <td>5</td>\n",
       "    </tr>\n",
       "    <tr>\n",
       "      <th>8695</th>\n",
       "      <td>0</td>\n",
       "      <td>0</td>\n",
       "      <td>1</td>\n",
       "      <td>36.90</td>\n",
       "      <td>39</td>\n",
       "      <td>19.9995</td>\n",
       "      <td>8</td>\n",
       "      <td>5</td>\n",
       "      <td>16</td>\n",
       "    </tr>\n",
       "    <tr>\n",
       "      <th>8406</th>\n",
       "      <td>0</td>\n",
       "      <td>1</td>\n",
       "      <td>1</td>\n",
       "      <td>32.80</td>\n",
       "      <td>41</td>\n",
       "      <td>16.9979</td>\n",
       "      <td>7</td>\n",
       "      <td>2</td>\n",
       "      <td>15</td>\n",
       "    </tr>\n",
       "    <tr>\n",
       "      <th>1543</th>\n",
       "      <td>0</td>\n",
       "      <td>0</td>\n",
       "      <td>2</td>\n",
       "      <td>14.76</td>\n",
       "      <td>93</td>\n",
       "      <td>7.0015</td>\n",
       "      <td>4</td>\n",
       "      <td>6</td>\n",
       "      <td>4</td>\n",
       "    </tr>\n",
       "    <tr>\n",
       "      <th>4952</th>\n",
       "      <td>0</td>\n",
       "      <td>0</td>\n",
       "      <td>1</td>\n",
       "      <td>13.12</td>\n",
       "      <td>45</td>\n",
       "      <td>16.9979</td>\n",
       "      <td>11</td>\n",
       "      <td>5</td>\n",
       "      <td>10</td>\n",
       "    </tr>\n",
       "  </tbody>\n",
       "</table>\n",
       "</div>"
      ],
      "text/plain": [
       "      holiday  workingday  weather   temp  humidity  windspeed  month  day  \\\n",
       "2815        0           1        1  27.88        83     6.0032      7    2   \n",
       "8695        0           0        1  36.90        39    19.9995      8    5   \n",
       "8406        0           1        1  32.80        41    16.9979      7    2   \n",
       "1543        0           0        2  14.76        93     7.0015      4    6   \n",
       "4952        0           0        1  13.12        45    16.9979     11    5   \n",
       "\n",
       "      hour  \n",
       "2815     5  \n",
       "8695    16  \n",
       "8406    15  \n",
       "1543     4  \n",
       "4952    10  "
      ]
     },
     "execution_count": 60,
     "metadata": {},
     "output_type": "execute_result"
    }
   ],
   "source": [
    "P_train.head()"
   ]
  },
  {
   "cell_type": "code",
   "execution_count": 61,
   "metadata": {},
   "outputs": [
    {
     "data": {
      "text/html": [
       "<div>\n",
       "<style scoped>\n",
       "    .dataframe tbody tr th:only-of-type {\n",
       "        vertical-align: middle;\n",
       "    }\n",
       "\n",
       "    .dataframe tbody tr th {\n",
       "        vertical-align: top;\n",
       "    }\n",
       "\n",
       "    .dataframe thead th {\n",
       "        text-align: right;\n",
       "    }\n",
       "</style>\n",
       "<table border=\"1\" class=\"dataframe\">\n",
       "  <thead>\n",
       "    <tr style=\"text-align: right;\">\n",
       "      <th></th>\n",
       "      <th>holiday</th>\n",
       "      <th>workingday</th>\n",
       "      <th>weather</th>\n",
       "      <th>temp</th>\n",
       "      <th>humidity</th>\n",
       "      <th>windspeed</th>\n",
       "      <th>month</th>\n",
       "      <th>day</th>\n",
       "      <th>hour</th>\n",
       "    </tr>\n",
       "  </thead>\n",
       "  <tbody>\n",
       "    <tr>\n",
       "      <th>3133</th>\n",
       "      <td>0</td>\n",
       "      <td>1</td>\n",
       "      <td>1</td>\n",
       "      <td>33.62</td>\n",
       "      <td>59</td>\n",
       "      <td>0.0000</td>\n",
       "      <td>7</td>\n",
       "      <td>1</td>\n",
       "      <td>11</td>\n",
       "    </tr>\n",
       "    <tr>\n",
       "      <th>5786</th>\n",
       "      <td>1</td>\n",
       "      <td>0</td>\n",
       "      <td>1</td>\n",
       "      <td>4.10</td>\n",
       "      <td>54</td>\n",
       "      <td>6.0032</td>\n",
       "      <td>1</td>\n",
       "      <td>0</td>\n",
       "      <td>6</td>\n",
       "    </tr>\n",
       "    <tr>\n",
       "      <th>5224</th>\n",
       "      <td>0</td>\n",
       "      <td>0</td>\n",
       "      <td>1</td>\n",
       "      <td>9.84</td>\n",
       "      <td>48</td>\n",
       "      <td>12.9980</td>\n",
       "      <td>12</td>\n",
       "      <td>6</td>\n",
       "      <td>18</td>\n",
       "    </tr>\n",
       "    <tr>\n",
       "      <th>8953</th>\n",
       "      <td>0</td>\n",
       "      <td>1</td>\n",
       "      <td>2</td>\n",
       "      <td>29.52</td>\n",
       "      <td>62</td>\n",
       "      <td>12.9980</td>\n",
       "      <td>8</td>\n",
       "      <td>2</td>\n",
       "      <td>10</td>\n",
       "    </tr>\n",
       "    <tr>\n",
       "      <th>8054</th>\n",
       "      <td>0</td>\n",
       "      <td>1</td>\n",
       "      <td>1</td>\n",
       "      <td>25.42</td>\n",
       "      <td>53</td>\n",
       "      <td>16.9979</td>\n",
       "      <td>6</td>\n",
       "      <td>4</td>\n",
       "      <td>23</td>\n",
       "    </tr>\n",
       "  </tbody>\n",
       "</table>\n",
       "</div>"
      ],
      "text/plain": [
       "      holiday  workingday  weather   temp  humidity  windspeed  month  day  \\\n",
       "3133        0           1        1  33.62        59     0.0000      7    1   \n",
       "5786        1           0        1   4.10        54     6.0032      1    0   \n",
       "5224        0           0        1   9.84        48    12.9980     12    6   \n",
       "8953        0           1        2  29.52        62    12.9980      8    2   \n",
       "8054        0           1        1  25.42        53    16.9979      6    4   \n",
       "\n",
       "      hour  \n",
       "3133    11  \n",
       "5786     6  \n",
       "5224    18  \n",
       "8953    10  \n",
       "8054    23  "
      ]
     },
     "execution_count": 61,
     "metadata": {},
     "output_type": "execute_result"
    }
   ],
   "source": [
    "P_test.head()"
   ]
  },
  {
   "cell_type": "code",
   "execution_count": 62,
   "metadata": {},
   "outputs": [
    {
     "data": {
      "text/plain": [
       "array([[ 1.    ,  2.    ,  6.0032, ...,  0.    ,  0.    ,  0.    ],\n",
       "       [ 0.    ,  5.    , 19.9995, ...,  0.    ,  0.    ,  0.    ],\n",
       "       [ 1.    ,  2.    , 16.9979, ...,  0.    ,  0.    ,  0.    ],\n",
       "       ...,\n",
       "       [ 0.    ,  6.    , 16.9979, ...,  0.    ,  0.    ,  0.    ],\n",
       "       [ 0.    ,  5.    , 35.0008, ...,  0.    ,  0.    ,  0.    ],\n",
       "       [ 1.    ,  2.    , 12.998 , ...,  1.    ,  0.    ,  0.    ]])"
      ]
     },
     "execution_count": 62,
     "metadata": {},
     "output_type": "execute_result"
    }
   ],
   "source": [
    "P_train_trans = feature_transform.fit_transform(P_train)\n",
    "P_train_trans"
   ]
  },
  {
   "cell_type": "code",
   "execution_count": null,
   "metadata": {},
   "outputs": [],
   "source": []
  },
  {
   "cell_type": "code",
   "execution_count": 63,
   "metadata": {},
   "outputs": [],
   "source": [
    "P_test_trans = feature_transform.transform(P_test)"
   ]
  },
  {
   "cell_type": "code",
   "execution_count": 64,
   "metadata": {},
   "outputs": [
    {
     "name": "stderr",
     "output_type": "stream",
     "text": [
      "/home/eva/anaconda3/lib/python3.9/site-packages/sklearn/linear_model/_glm/link.py:90: RuntimeWarning: overflow encountered in exp\n",
      "  return np.exp(lin_pred)\n",
      "/home/eva/anaconda3/lib/python3.9/site-packages/sklearn/linear_model/_glm/link.py:93: RuntimeWarning: overflow encountered in exp\n",
      "  return np.exp(lin_pred)\n",
      "/home/eva/anaconda3/lib/python3.9/site-packages/sklearn/_loss/glm_distribution.py:132: RuntimeWarning: divide by zero encountered in true_divide\n",
      "  return -2 * (y - y_pred) / self.unit_variance(y_pred)\n",
      "/home/eva/anaconda3/lib/python3.9/site-packages/sklearn/_loss/glm_distribution.py:132: RuntimeWarning: invalid value encountered in true_divide\n",
      "  return -2 * (y - y_pred) / self.unit_variance(y_pred)\n",
      "/home/eva/anaconda3/lib/python3.9/site-packages/sklearn/linear_model/_glm/glm.py:42: RuntimeWarning: invalid value encountered in multiply\n",
      "  temp = d1 * family.deviance_derivative(y, y_pred, weights)\n",
      "/home/eva/anaconda3/lib/python3.9/site-packages/sklearn/_loss/glm_distribution.py:323: RuntimeWarning: divide by zero encountered in true_divide\n",
      "  dev = 2 * (xlogy(y, y / y_pred) - y + y_pred)\n",
      "/home/eva/anaconda3/lib/python3.9/site-packages/sklearn/_loss/glm_distribution.py:323: RuntimeWarning: invalid value encountered in add\n",
      "  dev = 2 * (xlogy(y, y / y_pred) - y + y_pred)\n",
      "/home/eva/anaconda3/lib/python3.9/site-packages/sklearn/linear_model/_glm/glm.py:323: ConvergenceWarning: lbfgs failed to converge (status=2):\n",
      "ABNORMAL_TERMINATION_IN_LNSRCH.\n",
      "\n",
      "Increase the number of iterations (max_iter) or scale the data as shown in:\n",
      "    https://scikit-learn.org/stable/modules/preprocessing.html\n",
      "  self.n_iter_ = _check_optimize_result(\"lbfgs\", opt_res)\n"
     ]
    },
    {
     "data": {
      "text/plain": [
       "PoissonRegressor(alpha=1e-06)"
      ]
     },
     "execution_count": 64,
     "metadata": {},
     "output_type": "execute_result"
    }
   ],
   "source": [
    "from sklearn.linear_model import PoissonRegressor\n",
    "\n",
    "mp = PoissonRegressor(alpha=0.000001)\n",
    "mp.fit(P_train_trans, y_train)\n"
   ]
  },
  {
   "cell_type": "code",
   "execution_count": 65,
   "metadata": {},
   "outputs": [
    {
     "data": {
      "text/plain": [
       "1"
      ]
     },
     "execution_count": 65,
     "metadata": {},
     "output_type": "execute_result"
    }
   ],
   "source": [
    "y_train.min()"
   ]
  },
  {
   "cell_type": "code",
   "execution_count": 66,
   "metadata": {},
   "outputs": [
    {
     "data": {
      "text/plain": [
       "array([191.58474966, 191.58474966, 191.58474966, ..., 191.58474966,\n",
       "       191.58474966, 191.58474966])"
      ]
     },
     "execution_count": 66,
     "metadata": {},
     "output_type": "execute_result"
    }
   ],
   "source": [
    "p_pred = mp.predict(P_test_trans)\n",
    "p_pred"
   ]
  },
  {
   "cell_type": "code",
   "execution_count": 67,
   "metadata": {},
   "outputs": [
    {
     "data": {
      "text/plain": [
       "0.0"
      ]
     },
     "execution_count": 67,
     "metadata": {},
     "output_type": "execute_result"
    }
   ],
   "source": [
    "mp.score(P_train_trans, y_train)"
   ]
  },
  {
   "cell_type": "code",
   "execution_count": 68,
   "metadata": {},
   "outputs": [
    {
     "name": "stdout",
     "output_type": "stream",
     "text": [
      "Mean Poisson deviance regression loss: 166.35\n"
     ]
    }
   ],
   "source": [
    "from sklearn.metrics import mean_poisson_deviance #Mean Poisson deviance regression loss\n",
    "print (f'Mean Poisson deviance regression loss: {round(mean_poisson_deviance(y_test, p_pred),2)}')"
   ]
  },
  {
   "cell_type": "code",
   "execution_count": 69,
   "metadata": {},
   "outputs": [
    {
     "name": "stdout",
     "output_type": "stream",
     "text": [
      "RMSE: 33006.94\n"
     ]
    }
   ],
   "source": [
    "print(f'RMSE: {round(mean_squared_error(y_test, p_pred),2)}') "
   ]
  },
  {
   "cell_type": "code",
   "execution_count": 70,
   "metadata": {},
   "outputs": [
    {
     "name": "stdout",
     "output_type": "stream",
     "text": [
      "MSE: 33006.94\n"
     ]
    }
   ],
   "source": [
    "print(f'MSE: {round(mean_squared_error(y_test, p_pred),2)}')"
   ]
  },
  {
   "cell_type": "code",
   "execution_count": 71,
   "metadata": {},
   "outputs": [
    {
     "name": "stdout",
     "output_type": "stream",
     "text": [
      "MAE: 142.7\n"
     ]
    }
   ],
   "source": [
    "print(f'MAE: {round(mean_absolute_error(y_test, p_pred),2)}')"
   ]
  },
  {
   "cell_type": "code",
   "execution_count": 72,
   "metadata": {},
   "outputs": [
    {
     "name": "stdout",
     "output_type": "stream",
     "text": [
      "RMSLE: 2.52\n"
     ]
    }
   ],
   "source": [
    "print(f'RMSLE: {round(mean_squared_log_error(y_test, p_pred),2)}')"
   ]
  },
  {
   "cell_type": "markdown",
   "metadata": {},
   "source": [
    "## Lasso regression"
   ]
  },
  {
   "cell_type": "code",
   "execution_count": 73,
   "metadata": {},
   "outputs": [],
   "source": [
    "from sklearn.linear_model import Lasso"
   ]
  },
  {
   "cell_type": "code",
   "execution_count": 74,
   "metadata": {},
   "outputs": [
    {
     "name": "stderr",
     "output_type": "stream",
     "text": [
      "/home/eva/anaconda3/lib/python3.9/site-packages/sklearn/linear_model/_coordinate_descent.py:647: ConvergenceWarning: Objective did not converge. You might want to increase the number of iterations, check the scale of the features or consider increasing regularisation. Duality gap: 6.748e+07, tolerance: 2.853e+04\n",
      "  model = cd_fast.enet_coordinate_descent(\n"
     ]
    },
    {
     "data": {
      "text/plain": [
       "array([184.54384789,  25.25360695, 309.06984786, ..., 262.23412984,\n",
       "        10.21297791, 186.79648884])"
      ]
     },
     "execution_count": 74,
     "metadata": {},
     "output_type": "execute_result"
    }
   ],
   "source": [
    "m_lasso = Lasso(alpha = 1)\n",
    "m_lasso.fit(X_train_trans,y_train)\n",
    "ypred_lasso = m_lasso.predict(X_test_trans)\n",
    "ypred_lasso2 = np.exp(y_pred)-1\n",
    "ypred_lasso2"
   ]
  },
  {
   "cell_type": "code",
   "execution_count": 75,
   "metadata": {
    "scrolled": true
   },
   "outputs": [
    {
     "data": {
      "text/plain": [
       "array([ 0.00000000e+00,  0.00000000e+00, -1.64827417e+00,  2.12271402e+00,\n",
       "        7.36696473e+00, -1.39199274e-01, -7.81920566e-03,  2.00996829e-01,\n",
       "       -2.60769063e-02, -4.97082184e-03,  3.05207199e-01, -1.02019248e-04,\n",
       "        1.28427980e-04, -3.77874108e-03, -5.51205967e-04, -3.52358030e-03,\n",
       "        2.28720660e-03,  7.18150824e-05, -1.33098129e-03, -1.81614425e-03,\n",
       "        5.91055702e-04,  1.28246396e-01, -1.46252373e-01,  4.29511035e-04,\n",
       "        1.27699057e-03, -5.84978442e-04, -3.60241742e-05, -8.10860097e-04,\n",
       "        3.80839689e-03,  4.59269356e-05, -2.75653160e-05,  5.20268154e-06,\n",
       "       -5.88044971e-06,  1.70076323e-06, -8.02840971e-05,  1.02918573e-05,\n",
       "       -4.22971586e-05,  9.36966629e-06, -3.20951612e-05,  8.85768046e-02,\n",
       "        1.03447134e-03, -4.54484212e-04, -1.16208437e-03,  1.34279994e-04,\n",
       "       -7.00166825e-04, -3.29519802e-04,  4.28145910e-05, -7.71032641e-06,\n",
       "        5.03394115e-05,  5.01338350e-06, -3.49040882e-05,  2.36218653e-05,\n",
       "        1.07793152e-06,  2.82766220e-06, -2.58414979e-05,  4.80393778e-06,\n",
       "        1.36301525e-03,  3.97328230e-04,  5.04486378e-03,  1.48505334e-04,\n",
       "       -1.19856450e-04,  1.79141549e-03, -9.77029117e-05, -2.76805199e-05,\n",
       "       -4.91048803e-05, -1.99803188e-05,  6.44723676e-06, -6.18847908e-05,\n",
       "        5.94027576e-06, -2.69653237e-05, -2.99603223e-06, -7.01361430e-05,\n",
       "        3.25602886e-05,  9.49645401e-05, -1.87882546e-05,  7.59625232e-05,\n",
       "       -1.20395704e-05, -6.33429482e-08, -6.08656225e-07,  6.09513138e-07,\n",
       "       -2.66268959e-07,  8.18265578e-07, -2.30138801e-06,  2.13360570e-07,\n",
       "       -3.16264976e-07,  9.22246356e-07, -2.22710075e-06,  3.19938975e-05,\n",
       "        8.50059321e-07, -1.45770906e-05,  6.53598432e-05, -7.15853907e-07,\n",
       "       -3.66911276e-07,  1.06889653e-06,  6.40862775e-08, -5.45810869e-07,\n",
       "        4.16780805e-07,  2.10584004e-08,  2.61182580e-07, -6.90555663e-07,\n",
       "        3.41302366e-07, -2.21211075e-05,  5.60666055e-05, -5.83340242e-06,\n",
       "        6.18926785e-07, -5.00203277e-07, -1.80034426e-06, -7.49619139e-08,\n",
       "        6.30729669e-07, -2.46534505e-06,  3.24106281e-07, -5.58872991e-07,\n",
       "        7.15338749e-07, -2.73410484e-06,  3.92895213e-06, -1.32549535e-05,\n",
       "       -2.90219871e-07,  3.77929440e-08,  3.12140556e-08, -4.61755633e-08,\n",
       "        3.51076407e-07, -2.43456107e-07, -2.04569245e-08,  1.00771119e-07,\n",
       "       -1.27221609e-07,  1.22512512e-07,  1.14573856e-05,  1.19948636e-06,\n",
       "       -9.27506509e-07,  1.56123125e-06,  7.56136887e-08, -6.18036333e-07,\n",
       "        9.09323113e-07,  3.04077826e-08, -1.42784636e-07,  5.05616741e-08,\n",
       "        1.99570064e-07,  4.38929164e-07, -1.46591625e-07, -1.02324186e-06,\n",
       "       -1.81302752e-07,  8.09748957e-07, -2.39726417e-06, -1.77187197e-08,\n",
       "        9.32528069e-08,  3.48554045e-07, -4.54305012e-06, -1.38751606e-08,\n",
       "       -8.92195330e-09,  2.97676602e-08, -1.11280389e-08, -4.43650602e-08,\n",
       "        2.82416401e-10,  3.01135505e-09,  4.74718610e-08,  4.15035931e-08,\n",
       "       -2.71530985e-08, -1.92755822e-09, -2.45632590e-09,  3.37345774e-08,\n",
       "       -1.88867946e-09,  1.18863789e-08, -2.54690891e-08,  7.97696857e-08,\n",
       "       -2.62060744e-08,  1.24763518e-08,  7.83937641e-10,  8.03178627e-09,\n",
       "       -2.98716354e-08,  6.80926301e-08,  1.26451847e-07, -1.47702471e-09,\n",
       "       -4.40424971e-08, -1.56855799e-09,  8.31445660e-09,  4.08546950e-09,\n",
       "        5.36124674e-10, -4.70259544e-08, -3.44923590e-10,  4.90797722e-09,\n",
       "        4.01807152e-09,  5.42293274e-08, -7.12708637e-09, -4.21465311e-09,\n",
       "        3.59590003e-08, -9.99298013e-08, -6.21286348e-10, -6.44297762e-10,\n",
       "        4.89765663e-09,  5.13813153e-25,  3.55488299e-08, -1.89800049e-08,\n",
       "       -0.00000000e+00, -0.00000000e+00, -0.00000000e+00, -0.00000000e+00,\n",
       "        1.69070414e+01, -0.00000000e+00, -1.55827130e+01, -7.29422224e+00,\n",
       "        1.55750604e+01,  3.94854895e+01,  3.94158996e+01,  4.06899396e+01,\n",
       "       -9.49463047e+01, -1.09582201e+02, -1.14027521e+02, -1.25845964e+02,\n",
       "       -1.25266110e+02, -1.10735765e+02, -5.03425592e+01,  2.84259267e+01,\n",
       "        1.75166934e+02,  1.76783715e+01, -0.00000000e+00, -0.00000000e+00,\n",
       "        6.61207981e+00,  2.32127326e+00,  0.00000000e+00,  0.00000000e+00,\n",
       "        5.23048815e+01,  2.09886758e+02,  1.83825521e+02,  8.53629337e+01,\n",
       "        1.82774110e+00, -0.00000000e+00, -2.55996661e+01, -6.32480033e+01,\n",
       "        0.00000000e+00,  0.00000000e+00, -2.03858278e+01, -0.00000000e+00])"
      ]
     },
     "execution_count": 75,
     "metadata": {},
     "output_type": "execute_result"
    }
   ],
   "source": [
    "m_lasso.coef_ "
   ]
  },
  {
   "cell_type": "code",
   "execution_count": 76,
   "metadata": {},
   "outputs": [
    {
     "data": {
      "text/plain": [
       "0.636"
      ]
     },
     "execution_count": 76,
     "metadata": {},
     "output_type": "execute_result"
    }
   ],
   "source": [
    "round(m_lasso.score(X_train_trans, y_train),3)"
   ]
  },
  {
   "cell_type": "code",
   "execution_count": 77,
   "metadata": {},
   "outputs": [
    {
     "data": {
      "text/plain": [
       "0.631"
      ]
     },
     "execution_count": 77,
     "metadata": {},
     "output_type": "execute_result"
    }
   ],
   "source": [
    "round(m_lasso.score(X_test_trans, y_test),3)"
   ]
  },
  {
   "cell_type": "code",
   "execution_count": 78,
   "metadata": {},
   "outputs": [
    {
     "name": "stdout",
     "output_type": "stream",
     "text": [
      "R^2: 0.65\n"
     ]
    }
   ],
   "source": [
    "print(f'R^2: {round(r2_score(y_test, ypred_lasso2),2)}')"
   ]
  },
  {
   "cell_type": "code",
   "execution_count": 79,
   "metadata": {},
   "outputs": [
    {
     "name": "stdout",
     "output_type": "stream",
     "text": [
      "MSE: 12178.58\n"
     ]
    }
   ],
   "source": [
    "print(f'MSE: {round(mean_squared_error(y_test, ypred_lasso),2)}')"
   ]
  },
  {
   "cell_type": "code",
   "execution_count": 80,
   "metadata": {},
   "outputs": [
    {
     "name": "stdout",
     "output_type": "stream",
     "text": [
      "MAE: 78.57\n"
     ]
    }
   ],
   "source": [
    "print(f'MAE: {round(mean_absolute_error(y_test, ypred_lasso),2)}')"
   ]
  },
  {
   "cell_type": "code",
   "execution_count": null,
   "metadata": {},
   "outputs": [],
   "source": []
  },
  {
   "cell_type": "code",
   "execution_count": null,
   "metadata": {},
   "outputs": [],
   "source": [
    "#X_train_trans = pd.DataFrame(X_train_trans, columns= feature_transform.get_feature_names_out())\n",
    "#X_train_trans"
   ]
  },
  {
   "cell_type": "code",
   "execution_count": null,
   "metadata": {},
   "outputs": [],
   "source": [
    "#X_train_trans.columns"
   ]
  },
  {
   "cell_type": "code",
   "execution_count": null,
   "metadata": {
    "scrolled": true
   },
   "outputs": [],
   "source": [
    "#pd.DataFrame({'features': X_train_trans.columns, 'weights': m_lasso.coef_})"
   ]
  },
  {
   "cell_type": "code",
   "execution_count": null,
   "metadata": {},
   "outputs": [],
   "source": []
  },
  {
   "cell_type": "markdown",
   "metadata": {},
   "source": [
    "# Random Forest"
   ]
  },
  {
   "cell_type": "code",
   "execution_count": 82,
   "metadata": {},
   "outputs": [],
   "source": [
    "from sklearn.ensemble import RandomForestRegressor\n",
    "\n",
    "rf = RandomForestRegressor(n_estimators= 100,random_state = 42) \n",
    "rf_log = RandomForestRegressor(n_estimators= 100,random_state = 42) \n",
    "rf.fit(X_train_trans,y_train)\n",
    "\n",
    "rf_log.fit(X_train_trans, y_train_log)\n",
    "\n",
    "y_pred_rf = rf.predict(X_test_trans)\n",
    "y_pred_rf_1 = rf_log.predict(X_test_trans)\n",
    "\n",
    "#print(f'R^2: {round(r2_score(y_test, y_predrf),2)}')\n",
    "#print(f'MSE: {round(mean_squared_error(y_test, y_predrf),2)}')\n",
    "#print(f'RMSE: {round(mean_squared_log_error(y_test, y_pred),2)}') ##log before??"
   ]
  },
  {
   "cell_type": "code",
   "execution_count": 83,
   "metadata": {},
   "outputs": [
    {
     "data": {
      "text/plain": [
       "0.97"
      ]
     },
     "execution_count": 83,
     "metadata": {},
     "output_type": "execute_result"
    }
   ],
   "source": [
    "round(rf.score(X_train_trans, y_train),2)"
   ]
  },
  {
   "cell_type": "code",
   "execution_count": 84,
   "metadata": {},
   "outputs": [
    {
     "data": {
      "text/plain": [
       "0.82"
      ]
     },
     "execution_count": 84,
     "metadata": {},
     "output_type": "execute_result"
    }
   ],
   "source": [
    "round(rf.score(X_test_trans, y_test),2)"
   ]
  },
  {
   "cell_type": "code",
   "execution_count": 85,
   "metadata": {},
   "outputs": [
    {
     "data": {
      "text/plain": [
       "0.99"
      ]
     },
     "execution_count": 85,
     "metadata": {},
     "output_type": "execute_result"
    }
   ],
   "source": [
    "round(rf_log.score(X_train_trans, y_train_log),2)"
   ]
  },
  {
   "cell_type": "code",
   "execution_count": 86,
   "metadata": {},
   "outputs": [
    {
     "data": {
      "text/plain": [
       "0.91"
      ]
     },
     "execution_count": 86,
     "metadata": {},
     "output_type": "execute_result"
    }
   ],
   "source": [
    "round(rf_log.score(X_test_trans, y_test_log),2)"
   ]
  },
  {
   "cell_type": "code",
   "execution_count": 87,
   "metadata": {},
   "outputs": [],
   "source": [
    "y_pred_rf_2 = np.exp(y_pred_rf_1)-1"
   ]
  },
  {
   "cell_type": "code",
   "execution_count": null,
   "metadata": {},
   "outputs": [],
   "source": []
  },
  {
   "cell_type": "code",
   "execution_count": null,
   "metadata": {},
   "outputs": [],
   "source": []
  },
  {
   "cell_type": "code",
   "execution_count": 88,
   "metadata": {},
   "outputs": [
    {
     "name": "stdout",
     "output_type": "stream",
     "text": [
      "MAE: 51.46\n"
     ]
    }
   ],
   "source": [
    "print(f'MAE: {round(mean_absolute_error(y_test,y_pred_rf),2)}')"
   ]
  },
  {
   "cell_type": "code",
   "execution_count": 89,
   "metadata": {},
   "outputs": [
    {
     "name": "stdout",
     "output_type": "stream",
     "text": [
      "MAE: 46.73\n"
     ]
    }
   ],
   "source": [
    "print(f'MAE: {round(mean_absolute_error(y_test,y_pred_rf_2),2)}')"
   ]
  },
  {
   "cell_type": "code",
   "execution_count": 90,
   "metadata": {},
   "outputs": [
    {
     "name": "stdout",
     "output_type": "stream",
     "text": [
      "RMSLE: 0.32\n"
     ]
    }
   ],
   "source": [
    "print(f'RMSLE: {round(mean_squared_log_error(y_test, y_pred_rf),2)}')"
   ]
  },
  {
   "cell_type": "code",
   "execution_count": 91,
   "metadata": {},
   "outputs": [
    {
     "name": "stdout",
     "output_type": "stream",
     "text": [
      "RMSLE: 0.18\n"
     ]
    }
   ],
   "source": [
    "print(f'RMSLE: {round(mean_squared_log_error(y_test, y_pred_rf_2),2)}')"
   ]
  },
  {
   "cell_type": "code",
   "execution_count": 92,
   "metadata": {},
   "outputs": [
    {
     "name": "stdout",
     "output_type": "stream",
     "text": [
      "R^2: 0.84\n"
     ]
    }
   ],
   "source": [
    "print(f'R^2: {round(r2_score(y_test, y_pred_rf_2),2)}')"
   ]
  },
  {
   "cell_type": "code",
   "execution_count": null,
   "metadata": {},
   "outputs": [],
   "source": []
  },
  {
   "cell_type": "code",
   "execution_count": 93,
   "metadata": {},
   "outputs": [
    {
     "data": {
      "text/plain": [
       "array([0.79353086, 0.80254738, 0.81833709, 0.81420414, 0.79560928])"
      ]
     },
     "execution_count": 93,
     "metadata": {},
     "output_type": "execute_result"
    }
   ],
   "source": [
    "from sklearn.model_selection import cross_val_score\n",
    "#For the forest\n",
    "cross_val_score(rf, X_train_trans, y_train)"
   ]
  },
  {
   "cell_type": "code",
   "execution_count": null,
   "metadata": {},
   "outputs": [],
   "source": []
  },
  {
   "cell_type": "code",
   "execution_count": null,
   "metadata": {},
   "outputs": [],
   "source": []
  },
  {
   "cell_type": "markdown",
   "metadata": {},
   "source": [
    "### RMSLE is particularly helpful when you want to penalize an under-predicted estimate greater than an over-predicted estimate."
   ]
  },
  {
   "cell_type": "markdown",
   "metadata": {},
   "source": [
    "### Example RMSLE = 0.5\n",
    "\n",
    "### $e^{0.5}$ = 1.648"
   ]
  },
  {
   "cell_type": "markdown",
   "metadata": {},
   "source": [
    "### -actual count : 30\n",
    "### -predicted count : $30 \\cdot 1.648$ = 49.4"
   ]
  },
  {
   "cell_type": "code",
   "execution_count": null,
   "metadata": {},
   "outputs": [],
   "source": []
  },
  {
   "cell_type": "markdown",
   "metadata": {},
   "source": [
    "### Example RMSLE = 0.3\n",
    "\n",
    "### $e^{0.5}$ = 1.34"
   ]
  },
  {
   "cell_type": "markdown",
   "metadata": {},
   "source": [
    "### -actual count : 30 \n",
    "### -predicted count : $30 \\cdot 1.348$ = 40.4"
   ]
  },
  {
   "cell_type": "code",
   "execution_count": null,
   "metadata": {},
   "outputs": [],
   "source": []
  },
  {
   "cell_type": "markdown",
   "metadata": {},
   "source": [
    "### -actual count : 50\n",
    "### -predicted count : $50 \\cdot 1.348$ = 67.4"
   ]
  },
  {
   "cell_type": "code",
   "execution_count": null,
   "metadata": {},
   "outputs": [],
   "source": []
  }
 ],
 "metadata": {
  "kernelspec": {
   "display_name": "Python 3 (ipykernel)",
   "language": "python",
   "name": "python3"
  },
  "language_info": {
   "codemirror_mode": {
    "name": "ipython",
    "version": 3
   },
   "file_extension": ".py",
   "mimetype": "text/x-python",
   "name": "python",
   "nbconvert_exporter": "python",
   "pygments_lexer": "ipython3",
   "version": "3.9.7"
  }
 },
 "nbformat": 4,
 "nbformat_minor": 4
}
